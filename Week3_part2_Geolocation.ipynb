{
 "cells": [
  {
   "cell_type": "markdown",
   "metadata": {
    "colab_type": "text",
    "id": "MgzG4Ar34wTi"
   },
   "source": [
    "# Coursera Capstone : Toronto Neighborhood Segementation \n",
    "### WEEK 3 - PART 2\n",
    "## Geolocation"
   ]
  },
  {
   "cell_type": "markdown",
   "metadata": {
    "colab_type": "text",
    "id": "lB85dSGE-CXK"
   },
   "source": [
    "## 1. Web Scarping"
   ]
  },
  {
   "cell_type": "markdown",
   "metadata": {
    "colab_type": "text",
    "id": "KKQQg1E1qIk1"
   },
   "source": [
    "### 1.1 Import libraries"
   ]
  },
  {
   "cell_type": "code",
   "execution_count": 1,
   "metadata": {
    "colab": {
     "base_uri": "https://localhost:8080/",
     "height": 35
    },
    "colab_type": "code",
    "id": "h-mR0FN-qNZJ",
    "outputId": "5192ff9a-63ce-4fac-8b5b-bf9364037307"
   },
   "outputs": [
    {
     "name": "stdout",
     "output_type": "stream",
     "text": [
      "Libraries Imported!\n"
     ]
    }
   ],
   "source": [
    "# Download beautifulsoup4 library for webscraping, if not installed\n",
    "# !conda install beautifulsoup4\n",
    "\n",
    "from bs4 import BeautifulSoup\n",
    "import requests\n",
    "import pandas as pd\n",
    "import csv\n",
    "\n",
    "print(\"Libraries Imported!\")"
   ]
  },
  {
   "cell_type": "markdown",
   "metadata": {
    "colab_type": "text",
    "id": "pd_eAINL5UpY"
   },
   "source": [
    "### 1.2 Scrap data from Wikipedia"
   ]
  },
  {
   "cell_type": "code",
   "execution_count": 0,
   "metadata": {
    "colab": {},
    "colab_type": "code",
    "id": "5yW8SlsSpcjG"
   },
   "outputs": [],
   "source": [
    "# send the GET request\n",
    "data = requests.get('https://en.wikipedia.org/wiki/List_of_postal_codes_of_Canada:_M').text"
   ]
  },
  {
   "cell_type": "code",
   "execution_count": 0,
   "metadata": {
    "colab": {},
    "colab_type": "code",
    "id": "K-UuRq1qpl_T"
   },
   "outputs": [],
   "source": [
    "# parse data from the html into a beautifulsoup object\n",
    "soup = BeautifulSoup(data, 'html.parser')"
   ]
  },
  {
   "cell_type": "code",
   "execution_count": 4,
   "metadata": {
    "colab": {
     "base_uri": "https://localhost:8080/",
     "height": 55
    },
    "colab_type": "code",
    "id": "zncWODiKpu8q",
    "outputId": "13cb84c3-8b25-4bce-f55a-eb01e0812367"
   },
   "outputs": [
    {
     "data": {
      "text/plain": [
       "'\\n<!DOCTYPE html>\\n<html class=\"client-nojs\" lang=\"en\" dir=\"ltr\">\\n<head>\\n<meta charset=\"UTF-8\"/>\\n<title>List of postal codes of Canada: M - Wikipedia</title>\\n<script>document.documentElement.className=\"client-js\";RLCONF={\"wgBreakFrames\":!1,\"wgSeparatorTransformTable\":[\"\",\"\"],\"wgDigitTransformTable\":[\"\",\"\"],\"wgDefaultDateFormat\":\"dmy\",\"wgMonthNames\":[\"\",\"January\",\"February\",\"March\",\"April\",\"May\",\"June\",\"July\",\"August\",\"September\",\"October\",\"November\",\"December\"],\"wgRequestId\":\"XsodLwpAMNAAAITmFOEAAACR\",\"wgCSPNonce\":!1,\"wgCanonicalNamespace\":\"\",\"wgCanonicalSpecialPageName\":!1,\"wgNamespaceNumber\":0,\"wgPageName\":\"List_of_postal_codes_of_Canada:_M\",\"wgTitle\":\"List of postal codes of Canada: M\",\"wgCurRevisionId\":958430791,\"wgRevisionId\":958430791,\"wgArticleId\":539066,\"wgIsArticle\":!0,\"wgIsRedirect\":!1,\"wgAction\":\"view\",\"wgUserName\":null,\"wgUserGroups\":[\"*\"],\"wgCategories\":[\"Articles with short description\",\"Communications in Ontario\",\"Postal codes in Canada\",\"Toronto\",\"Ontario-related lists\"],\"wgPageContentLanguage\":\"en\",\"wgPageContentModel\":\"wikitext\",\"wgRelevantPageName\":\"List_of_postal_codes_of_Canada:_M\",\"wgRelevantArticleId\":539066,\\n\"wgIsProbablyEditable\":!0,\"wgRelevantPageIsProbablyEditable\":!0,\"wgRestrictionEdit\":[],\"wgRestrictionMove\":[],\"wgMediaViewerOnClick\":!0,\"wgMediaViewerEnabledByDefault\":!0,\"wgPopupsReferencePreviews\":!1,\"wgPopupsConflictsWithNavPopupGadget\":!1,\"wgVisualEditor\":{\"pageLanguageCode\":\"en\",\"pageLanguageDir\":\"ltr\",\"pageVariantFallbacks\":\"en\"},\"wgMFDisplayWikibaseDescriptions\":{\"search\":!0,\"nearby\":!0,\"watchlist\":!0,\"tagline\":!1},\"wgWMESchemaEditAttemptStepOversample\":!1,\"wgULSCurrentAutonym\":\"English\",\"wgNoticeProject\":\"wikipedia\",\"wgWikibaseItemId\":\"Q3248240\",\"wgCentralAuthMobileDomain\":!1,\"wgEditSubmitButtonLabelPublish\":!0};RLSTATE={\"ext.globalCssJs.user.styles\":\"ready\",\"site.styles\":\"ready\",\"noscript\":\"ready\",\"user.styles\":\"ready\",\"ext.globalCssJs.user\":\"ready\",\"user\":\"ready\",\"user.options\":\"loading\",\"ext.cite.styles\":\"ready\",\"jquery.tablesorter.styles\":\"ready\",\"skins.vector.styles.legacy\":\"ready\",\"wikibase.client.init\":\"ready\",\\n\"ext.visualEditor.desktopArticleTarget.noscript\":\"ready\",\"ext.uls.interlanguage\":\"ready\",\"ext.wikimediaBadges\":\"ready\"};RLPAGEMODULES=[\"ext.cite.ux-enhancements\",\"site\",\"mediawiki.page.startup\",\"skins.vector.js\",\"mediawiki.page.ready\",\"jquery.tablesorter\",\"ext.gadget.ReferenceTooltips\",\"ext.gadget.charinsert\",\"ext.gadget.refToolbar\",\"ext.gadget.extra-toolbar-buttons\",\"ext.gadget.switcher\",\"ext.centralauth.centralautologin\",\"mmv.head\",\"mmv.bootstrap.autostart\",\"ext.popups\",\"ext.visualEditor.desktopArticleTarget.init\",\"ext.visualEditor.targetLoader\",\"ext.eventLogging\",\"ext.wikimediaEvents\",\"ext.navigationTiming\",\"ext.uls.compactlinks\",\"ext.uls.interface\",\"ext.cx.eventlogging.campaigns\",\"ext.quicksurveys.init\",\"ext.centralNotice.geoIP\",\"ext.centralNotice.startUp\"];</script>\\n<script>(RLQ=window.RLQ||[]).push(function(){mw.loader.implement(\"user.options@1hzgi\",function($,jQuery,require,module){/*@nomin*/mw.user.tokens.set({\"patrolToken\":\"+\\\\\\\\\",\"watchToken\":\"+\\\\\\\\\",\"csrfToken\":\"+\\\\\\\\\"});\\n});});</script>\\n<link rel=\"stylesheet\" href=\"/w/load.php?lang=en&amp;modules=ext.cite.styles%7Cext.uls.interlanguage%7Cext.visualEditor.desktopArticleTarget.noscript%7Cext.wikimediaBadges%7Cjquery.tablesorter.styles%7Cskins.vector.styles.legacy%7Cwikibase.client.init&amp;only=styles&amp;skin=vector\"/>\\n<script async=\"\" src=\"/w/load.php?lang=en&amp;modules=startup&amp;only=scripts&amp;raw=1&amp;skin=vector\"></script>\\n<meta name=\"ResourceLoaderDynamicStyles\" content=\"\"/>\\n<link rel=\"stylesheet\" href=\"/w/load.php?lang=en&amp;modules=site.styles&amp;only=styles&amp;skin=vector\"/>\\n<meta name=\"generator\" content=\"MediaWiki 1.35.0-wmf.31\"/>\\n<meta name=\"referrer\" content=\"origin\"/>\\n<meta name=\"referrer\" content=\"origin-when-crossorigin\"/>\\n<meta name=\"referrer\" content=\"origin-when-cross-origin\"/>\\n<link rel=\"alternate\" type=\"application/x-wiki\" title=\"Edit this page\" href=\"/w/index.php?title=List_of_postal_codes_of_Canada:_M&amp;action=edit\"/>\\n<link rel=\"edit\" title=\"Edit this page\" href=\"/w/index.php?title=List_of_postal_codes_of_Canada:_M&amp;action=edit\"/>\\n<link rel=\"apple-touch-icon\" href=\"/static/apple-touch/wikipedia.png\"/>\\n<link rel=\"shortcut icon\" href=\"/static/favicon/wikipedia.ico\"/>\\n<link rel=\"search\" type=\"application/opensearchdescription+xml\" href=\"/w/opensearch_desc.php\" title=\"Wikipedia (en)\"/>\\n<link rel=\"EditURI\" type=\"application/rsd+xml\" href=\"//en.wikipedia.org/w/api.php?action=rsd\"/>\\n<link rel=\"license\" href=\"//creativecommons.org/licenses/by-sa/3.0/\"/>\\n<link rel=\"alternate\" type=\"application/atom+xml\" title=\"Wikipedia Atom feed\" href=\"/w/index.php?title=Special:RecentChanges&amp;feed=atom\"/>\\n<link rel=\"canonical\" href=\"https://en.wikipedia.org/wiki/List_of_postal_codes_of_Canada:_M\"/>\\n<link rel=\"dns-prefetch\" href=\"//login.wikimedia.org\"/>\\n<link rel=\"dns-prefetch\" href=\"//meta.wikimedia.org\" />\\n<!--[if lt IE 9]><script src=\"/w/resources/lib/html5shiv/html5shiv.js\"></script><![endif]-->\\n</head>\\n<body class=\"mediawiki ltr sitedir-ltr mw-hide-empty-elt ns-0 ns-subject mw-editable page-List_of_postal_codes_of_Canada_M rootpage-List_of_postal_codes_of_Canada_M skin-vector action-view\">\\n<div id=\"mw-page-base\" class=\"noprint\"></div>\\n<div id=\"mw-head-base\" class=\"noprint\"></div>\\n<div id=\"content\" class=\"mw-body\" role=\"main\">\\n\\t<a id=\"top\"></a>\\n\\t\\t<div id=\"siteNotice\" class=\"mw-body-content\"><!-- CentralNotice --></div>\\n\\t<div class=\"mw-indicators mw-body-content\">\\n</div>\\n\\n\\t<h1 id=\"firstHeading\" class=\"firstHeading\" lang=\"en\">List of postal codes of Canada: M</h1>\\n\\t\\n\\t<div id=\"bodyContent\" class=\"mw-body-content\">\\n\\t\\t<div id=\"siteSub\" class=\"noprint\">From Wikipedia, the free encyclopedia</div>\\n\\t\\t<div id=\"contentSub\"></div>\\n\\t\\t\\n\\t\\t\\n\\t\\t<div id=\"jump-to-nav\"></div>\\n\\t\\t<a class=\"mw-jump-link\" href=\"#mw-head\">Jump to navigation</a>\\n\\t\\t<a class=\"mw-jump-link\" href=\"#p-search\">Jump to search</a>\\n\\t\\t<div id=\"mw-content-text\" lang=\"en\" dir=\"ltr\" class=\"mw-content-ltr\"><div class=\"mw-parser-output\"><div class=\"shortdescription nomobile noexcerpt noprint searchaux\" style=\"display:none\">Wikipedia list article</div>\\n<p>This is a list of <a href=\"/wiki/Postal_codes_in_Canada\" title=\"Postal codes in Canada\">postal codes in Canada</a> where the first letter is M. Postal codes beginning with M are located within the city of <a href=\"/wiki/Toronto\" title=\"Toronto\">Toronto</a> in the province of <a href=\"/wiki/Ontario\" title=\"Ontario\">Ontario</a>. Only the first three characters are listed, corresponding to the Forward Sortation Area.\\n</p><p><a href=\"/wiki/Canada_Post\" title=\"Canada Post\">Canada Post</a> provides a free postal code look-up tool on its website,<sup id=\"cite_ref-1\" class=\"reference\"><a href=\"#cite_note-1\">&#91;1&#93;</a></sup> via its <a href=\"/wiki/Mobile_app\" title=\"Mobile app\">applications</a> for such <a href=\"/wiki/Smartphones\" class=\"mw-redirect\" title=\"Smartphones\">smartphones</a> as the <a href=\"/wiki/IPhone\" title=\"IPhone\">iPhone</a> and <a href=\"/wiki/BlackBerry\" title=\"BlackBerry\">BlackBerry</a>,<sup id=\"cite_ref-2\" class=\"reference\"><a href=\"#cite_note-2\">&#91;2&#93;</a></sup>  and sells hard-copy directories and <a href=\"/wiki/CD-ROM\" title=\"CD-ROM\">CD-ROMs</a>. Many vendors also sell validation tools, which allow customers to properly match addresses and postal codes. Hard-copy directories can also be consulted in all post offices, and some libraries.\\n</p>\\n<h2><span class=\"mw-headline\" id=\"Toronto_-_103_FSAs\"><a href=\"/wiki/Toronto\" title=\"Toronto\">Toronto</a> - 103 <a href=\"/wiki/Postal_codes_in_Canada#Forward_sortation_areas\" title=\"Postal codes in Canada\">FSAs</a></span><span class=\"mw-editsection\"><span class=\"mw-editsection-bracket\">[</span><a href=\"/w/index.php?title=List_of_postal_codes_of_Canada:_M&amp;action=edit&amp;section=1\" title=\"Edit section: Toronto - 103 FSAs\">edit</a><span class=\"mw-editsection-bracket\">]</span></span></h2>\\n<p>Note: There are no rural FSAs in Toronto, hence no postal codes should start with M0. However, the postal code M0R 8T0 is assigned to an <a href=\"/wiki/Amazon_(company)\" title=\"Amazon (company)\">Amazon</a> warehouse in Mississauga, suggesting that Canada Post may have reserved the M0 FSA for high volume addresses.\\n</p>\\n<table class=\"wikitable sortable\">\\n<tbody><tr>\\n<th>Postal Code\\n</th>\\n<th>Borough\\n</th>\\n<th>Neighborhood\\n</th></tr>\\n<tr>\\n<td>M1A\\n</td>\\n<td>Not assigned\\n</td>\\n<td>\\n</td></tr>\\n<tr>\\n<td>M2A\\n</td>\\n<td>Not assigned\\n</td>\\n<td>\\n</td></tr>\\n<tr>\\n<td>M3A\\n</td>\\n<td>North York\\n</td>\\n<td>Parkwoods\\n</td></tr>\\n<tr>\\n<td>M4A\\n</td>\\n<td>North York\\n</td>\\n<td>Victoria Village\\n</td></tr>\\n<tr>\\n<td>M5A\\n</td>\\n<td>Downtown Toronto\\n</td>\\n<td>Regent Park, Harbourfront\\n</td></tr>\\n<tr>\\n<td>M6A\\n</td>\\n<td>North York\\n</td>\\n<td>Lawrence Manor, Lawrence Heights\\n</td></tr>\\n<tr>\\n<td>M7A\\n</td>\\n<td>Downtown Toronto\\n</td>\\n<td>Queen\\'s Park, Ontario Provincial Government\\n</td></tr>\\n<tr>\\n<td>M8A\\n</td>\\n<td>Not assigned\\n</td>\\n<td>\\n</td></tr>\\n<tr>\\n<td>M9A\\n</td>\\n<td>Etobicoke\\n</td>\\n<td>Islington Avenue, Humber Valley Village\\n</td></tr>\\n<tr>\\n<td>M1B\\n</td>\\n<td>Scarborough\\n</td>\\n<td>Malvern, Rouge\\n</td></tr>\\n<tr>\\n<td>M2B\\n</td>\\n<td>Not assigned\\n</td>\\n<td>\\n</td></tr>\\n<tr>\\n<td>M3B\\n</td>\\n<td>North York\\n</td>\\n<td>Don Mills\\n</td></tr>\\n<tr>\\n<td>M4B\\n</td>\\n<td>East York\\n</td>\\n<td>Parkview Hill, Woodbine Gardens\\n</td></tr>\\n<tr>\\n<td>M5B\\n</td>\\n<td>Downtown Toronto\\n</td>\\n<td>Garden District, Ryerson\\n</td></tr>\\n<tr>\\n<td>M6B\\n</td>\\n<td>North York\\n</td>\\n<td>Glencairn\\n</td></tr>\\n<tr>\\n<td>M7B\\n</td>\\n<td>Not assigned\\n</td>\\n<td>\\n</td></tr>\\n<tr>\\n<td>M8B\\n</td>\\n<td>Not assigned\\n</td>\\n<td>\\n</td></tr>\\n<tr>\\n<td>M9B\\n</td>\\n<td>Etobicoke\\n</td>\\n<td>West Deane Park, Princess Gardens, Martin Grove, Islington, Cloverdale\\n</td></tr>\\n<tr>\\n<td>M1C\\n</td>\\n<td>Scarborough\\n</td>\\n<td>Rouge Hill, Port Union, Highland Creek\\n</td></tr>\\n<tr>\\n<td>M2C\\n</td>\\n<td>Not assigned\\n</td>\\n<td>\\n</td></tr>\\n<tr>\\n<td>M3C\\n</td>\\n<td>North York\\n</td>\\n<td>Don Mills\\n</td></tr>\\n<tr>\\n<td>M4C\\n</td>\\n<td>East York\\n</td>\\n<td>Woodbine Heights\\n</td></tr>\\n<tr>\\n<td>M5C\\n</td>\\n<td>Downtown Toronto\\n</td>\\n<td>St. James Town\\n</td></tr>\\n<tr>\\n<td>M6C\\n</td>\\n<td>York\\n</td>\\n<td>Humewood-Cedarvale\\n</td></tr>\\n<tr>\\n<td>M7C\\n</td>\\n<td>Not assigned\\n</td>\\n<td>\\n</td></tr>\\n<tr>\\n<td>M8C\\n</td>\\n<td>Not assigned\\n</td>\\n<td>\\n</td></tr>\\n<tr>\\n<td>M9C\\n</td>\\n<td>Etobicoke\\n</td>\\n<td>Eringate, Bloordale Gardens, Old Burnhamthorpe, Markland Wood\\n</td></tr>\\n<tr>\\n<td>M1E\\n</td>\\n<td>Scarborough\\n</td>\\n<td>Guildwood, Morningside, West Hill\\n</td></tr>\\n<tr>\\n<td>M2E\\n</td>\\n<td>Not assigned\\n</td>\\n<td>\\n</td></tr>\\n<tr>\\n<td>M3E\\n</td>\\n<td>Not assigned\\n</td>\\n<td>\\n</td></tr>\\n<tr>\\n<td>M4E\\n</td>\\n<td>East Toronto\\n</td>\\n<td>The Beaches\\n</td></tr>\\n<tr>\\n<td>M5E\\n</td>\\n<td>Downtown Toronto\\n</td>\\n<td>Berczy Park\\n</td></tr>\\n<tr>\\n<td>M6E\\n</td>\\n<td>York\\n</td>\\n<td>Caledonia-Fairbanks\\n</td></tr>\\n<tr>\\n<td>M7E\\n</td>\\n<td>Not assigned\\n</td>\\n<td>\\n</td></tr>\\n<tr>\\n<td>M8E\\n</td>\\n<td>Not assigned\\n</td>\\n<td>\\n</td></tr>\\n<tr>\\n<td>M9E\\n</td>\\n<td>Not assigned\\n</td>\\n<td>\\n</td></tr>\\n<tr>\\n<td>M1G\\n</td>\\n<td>Scarborough\\n</td>\\n<td>Woburn\\n</td></tr>\\n<tr>\\n<td>M2G\\n</td>\\n<td>Not assigned\\n</td>\\n<td>\\n</td></tr>\\n<tr>\\n<td>M3G\\n</td>\\n<td>Not assigned\\n</td>\\n<td>\\n</td></tr>\\n<tr>\\n<td>M4G\\n</td>\\n<td>East York\\n</td>\\n<td>Leaside\\n</td></tr>\\n<tr>\\n<td>M5G\\n</td>\\n<td>Downtown Toronto\\n</td>\\n<td>Central Bay Street\\n</td></tr>\\n<tr>\\n<td>M6G\\n</td>\\n<td>Downtown Toronto\\n</td>\\n<td>Christie\\n</td></tr>\\n<tr>\\n<td>M7G\\n</td>\\n<td>Not assigned\\n</td>\\n<td>\\n</td></tr>\\n<tr>\\n<td>M8G\\n</td>\\n<td>Not assigned\\n</td>\\n<td>\\n</td></tr>\\n<tr>\\n<td>M9G\\n</td>\\n<td>Not assigned\\n</td>\\n<td>\\n</td></tr>\\n<tr>\\n<td>M1H\\n</td>\\n<td>Scarborough\\n</td>\\n<td>Cedarbrae\\n</td></tr>\\n<tr>\\n<td>M2H\\n</td>\\n<td>North York\\n</td>\\n<td>Hillcrest Village\\n</td></tr>\\n<tr>\\n<td>M3H\\n</td>\\n<td>North York\\n</td>\\n<td>Bathurst Manor, Wilson Heights, Downsview North\\n</td></tr>\\n<tr>\\n<td>M4H\\n</td>\\n<td>East York\\n</td>\\n<td>Thorncliffe Park\\n</td></tr>\\n<tr>\\n<td>M5H\\n</td>\\n<td>Downtown Toronto\\n</td>\\n<td>Richmond, Adelaide, King\\n</td></tr>\\n<tr>\\n<td>M6H\\n</td>\\n<td>West Toronto\\n</td>\\n<td>Dufferin, Dovercourt Village\\n</td></tr>\\n<tr>\\n<td>M7H\\n</td>\\n<td>Not assigned\\n</td>\\n<td>\\n</td></tr>\\n<tr>\\n<td>M8H\\n</td>\\n<td>Not assigned\\n</td>\\n<td>\\n</td></tr>\\n<tr>\\n<td>M9H\\n</td>\\n<td>Not assigned\\n</td>\\n<td>\\n</td></tr>\\n<tr>\\n<td>M1J\\n</td>\\n<td>Scarborough\\n</td>\\n<td>Scarborough Village\\n</td></tr>\\n<tr>\\n<td>M2J\\n</td>\\n<td>North York\\n</td>\\n<td>Fairview, Henry Farm, Oriole\\n</td></tr>\\n<tr>\\n<td>M3J\\n</td>\\n<td>North York\\n</td>\\n<td>Northwood Park, York University\\n</td></tr>\\n<tr>\\n<td>M4J\\n</td>\\n<td>East York\\n</td>\\n<td>East Toronto, Broadview North (Old East York)\\n</td></tr>\\n<tr>\\n<td>M5J\\n</td>\\n<td>Downtown Toronto\\n</td>\\n<td>Harbourfront East, Union Station, Toronto Islands\\n</td></tr>\\n<tr>\\n<td>M6J\\n</td>\\n<td>West Toronto\\n</td>\\n<td>Little Portugal, Trinity\\n</td></tr>\\n<tr>\\n<td>M7J\\n</td>\\n<td>Not assigned\\n</td>\\n<td>\\n</td></tr>\\n<tr>\\n<td>M8J\\n</td>\\n<td>Not assigned\\n</td>\\n<td>\\n</td></tr>\\n<tr>\\n<td>M9J\\n</td>\\n<td>Not assigned\\n</td>\\n<td>\\n</td></tr>\\n<tr>\\n<td>M1K\\n</td>\\n<td>Scarborough\\n</td>\\n<td>Kennedy Park, Ionview, East Birchmount Park\\n</td></tr>\\n<tr>\\n<td>M2K\\n</td>\\n<td>North York\\n</td>\\n<td>Bayview Village\\n</td></tr>\\n<tr>\\n<td>M3K\\n</td>\\n<td>North York\\n</td>\\n<td>Downsview\\n</td></tr>\\n<tr>\\n<td>M4K\\n</td>\\n<td>East Toronto\\n</td>\\n<td>The Danforth West, Riverdale\\n</td></tr>\\n<tr>\\n<td>M5K\\n</td>\\n<td>Downtown Toronto\\n</td>\\n<td>Toronto Dominion Centre, Design Exchange\\n</td></tr>\\n<tr>\\n<td>M6K\\n</td>\\n<td>West Toronto\\n</td>\\n<td>Brockton, Parkdale Village, Exhibition Place\\n</td></tr>\\n<tr>\\n<td>M7K\\n</td>\\n<td>Not assigned\\n</td>\\n<td>\\n</td></tr>\\n<tr>\\n<td>M8K\\n</td>\\n<td>Not assigned\\n</td>\\n<td>\\n</td></tr>\\n<tr>\\n<td>M9K\\n</td>\\n<td>Not assigned\\n</td>\\n<td>\\n</td></tr>\\n<tr>\\n<td>M1L\\n</td>\\n<td>Scarborough\\n</td>\\n<td>Golden Mile, Clairlea, Oakridge\\n</td></tr>\\n<tr>\\n<td>M2L\\n</td>\\n<td>North York\\n</td>\\n<td>York Mills, Silver Hills\\n</td></tr>\\n<tr>\\n<td>M3L\\n</td>\\n<td>North York\\n</td>\\n<td>Downsview\\n</td></tr>\\n<tr>\\n<td>M4L\\n</td>\\n<td>East Toronto\\n</td>\\n<td>India Bazaar, The Beaches West\\n</td></tr>\\n<tr>\\n<td>M5L\\n</td>\\n<td>Downtown Toronto\\n</td>\\n<td>Commerce Court, Victoria Hotel\\n</td></tr>\\n<tr>\\n<td>M6L\\n</td>\\n<td>North York\\n</td>\\n<td>North Park, Maple Leaf Park, Upwood Park\\n</td></tr>\\n<tr>\\n<td>M7L\\n</td>\\n<td>Not assigned\\n</td>\\n<td>\\n</td></tr>\\n<tr>\\n<td>M8L\\n</td>\\n<td>Not assigned\\n</td>\\n<td>\\n</td></tr>\\n<tr>\\n<td>M9L\\n</td>\\n<td>North York\\n</td>\\n<td>Humber Summit\\n</td></tr>\\n<tr>\\n<td>M1M\\n</td>\\n<td>Scarborough\\n</td>\\n<td>Cliffside, Cliffcrest, Scarborough Village West\\n</td></tr>\\n<tr>\\n<td>M2M\\n</td>\\n<td>North York\\n</td>\\n<td>Willowdale, Newtonbrook\\n</td></tr>\\n<tr>\\n<td>M3M\\n</td>\\n<td>North York\\n</td>\\n<td>Downsview\\n</td></tr>\\n<tr>\\n<td>M4M\\n</td>\\n<td>East Toronto\\n</td>\\n<td>Studio District\\n</td></tr>\\n<tr>\\n<td>M5M\\n</td>\\n<td>North York\\n</td>\\n<td>Bedford Park, Lawrence Manor East\\n</td></tr>\\n<tr>\\n<td>M6M\\n</td>\\n<td>York\\n</td>\\n<td>Del Ray, Mount Dennis, Keelsdale and Silverthorn\\n</td></tr>\\n<tr>\\n<td>M7M\\n</td>\\n<td>Not assigned\\n</td>\\n<td>\\n</td></tr>\\n<tr>\\n<td>M8M\\n</td>\\n<td>Not assigned\\n</td>\\n<td>\\n</td></tr>\\n<tr>\\n<td>M9M\\n</td>\\n<td>North York\\n</td>\\n<td>Humberlea, Emery\\n</td></tr>\\n<tr>\\n<td>M1N\\n</td>\\n<td>Scarborough\\n</td>\\n<td>Birch Cliff, Cliffside West\\n</td></tr>\\n<tr>\\n<td>M2N\\n</td>\\n<td>North York\\n</td>\\n<td>Willowdale, Willowdale East\\n</td></tr>\\n<tr>\\n<td>M3N\\n</td>\\n<td>North York\\n</td>\\n<td>Downsview\\n</td></tr>\\n<tr>\\n<td>M4N\\n</td>\\n<td>Central Toronto\\n</td>\\n<td>Lawrence Park\\n</td></tr>\\n<tr>\\n<td>M5N\\n</td>\\n<td>Central Toronto\\n</td>\\n<td>Roselawn\\n</td></tr>\\n<tr>\\n<td>M6N\\n</td>\\n<td>York\\n</td>\\n<td>Runnymede, The Junction North\\n</td></tr>\\n<tr>\\n<td>M7N\\n</td>\\n<td>Not assigned\\n</td>\\n<td>\\n</td></tr>\\n<tr>\\n<td>M8N\\n</td>\\n<td>Not assigned\\n</td>\\n<td>\\n</td></tr>\\n<tr>\\n<td>M9N\\n</td>\\n<td>York\\n</td>\\n<td>Weston\\n</td></tr>\\n<tr>\\n<td>M1P\\n</td>\\n<td>Scarborough\\n</td>\\n<td>Dorset Park, Wexford Heights, Scarborough Town Centre\\n</td></tr>\\n<tr>\\n<td>M2P\\n</td>\\n<td>North York\\n</td>\\n<td>York Mills West\\n</td></tr>\\n<tr>\\n<td>M3P\\n</td>\\n<td>Not assigned\\n</td>\\n<td>\\n</td></tr>\\n<tr>\\n<td>M4P\\n</td>\\n<td>Central Toronto\\n</td>\\n<td>Davisville North\\n</td></tr>\\n<tr>\\n<td>M5P\\n</td>\\n<td>Central Toronto\\n</td>\\n<td>Forest Hill North &amp; West, Forest Hill Road Park\\n</td></tr>\\n<tr>\\n<td>M6P\\n</td>\\n<td>West Toronto\\n</td>\\n<td>High Park, The Junction South\\n</td></tr>\\n<tr>\\n<td>M7P\\n</td>\\n<td>Not assigned\\n</td>\\n<td>\\n</td></tr>\\n<tr>\\n<td>M8P\\n</td>\\n<td>Not assigned\\n</td>\\n<td>\\n</td></tr>\\n<tr>\\n<td>M9P\\n</td>\\n<td>Etobicoke\\n</td>\\n<td>Westmount\\n</td></tr>\\n<tr>\\n<td>M1R\\n</td>\\n<td>Scarborough\\n</td>\\n<td>Wexford, Maryvale\\n</td></tr>\\n<tr>\\n<td>M2R\\n</td>\\n<td>North York\\n</td>\\n<td>Willowdale, Willowdale West\\n</td></tr>\\n<tr>\\n<td>M3R\\n</td>\\n<td>Not assigned\\n</td>\\n<td>\\n</td></tr>\\n<tr>\\n<td>M4R\\n</td>\\n<td>Central Toronto\\n</td>\\n<td>North Toronto West,  Lawrence Park\\n</td></tr>\\n<tr>\\n<td>M5R\\n</td>\\n<td>Central Toronto\\n</td>\\n<td>The Annex, North Midtown, Yorkville\\n</td></tr>\\n<tr>\\n<td>M6R\\n</td>\\n<td>West Toronto\\n</td>\\n<td>Parkdale, Roncesvalles\\n</td></tr>\\n<tr>\\n<td>M7R\\n</td>\\n<td>Mississauga\\n</td>\\n<td>Canada Post Gateway Processing Centre\\n</td></tr>\\n<tr>\\n<td>M8R\\n</td>\\n<td>Not assigned\\n</td>\\n<td>\\n</td></tr>\\n<tr>\\n<td>M9R\\n</td>\\n<td>Etobicoke\\n</td>\\n<td>Kingsview Village, St. Phillips, Martin Grove Gardens, Richview Gardens\\n</td></tr>\\n<tr>\\n<td>M1S\\n</td>\\n<td>Scarborough\\n</td>\\n<td>Agincourt\\n</td></tr>\\n<tr>\\n<td>M2S\\n</td>\\n<td>Not assigned\\n</td>\\n<td>\\n</td></tr>\\n<tr>\\n<td>M3S\\n</td>\\n<td>Not assigned\\n</td>\\n<td>\\n</td></tr>\\n<tr>\\n<td>M4S\\n</td>\\n<td>Central Toronto\\n</td>\\n<td>Davisville\\n</td></tr>\\n<tr>\\n<td>M5S\\n</td>\\n<td>Downtown Toronto\\n</td>\\n<td>University of Toronto, Harbord\\n</td></tr>\\n<tr>\\n<td>M6S\\n</td>\\n<td>West Toronto\\n</td>\\n<td>Runnymede, Swansea\\n</td></tr>\\n<tr>\\n<td>M7S\\n</td>\\n<td>Not assigned\\n</td>\\n<td>\\n</td></tr>\\n<tr>\\n<td>M8S\\n</td>\\n<td>Not assigned\\n</td>\\n<td>\\n</td></tr>\\n<tr>\\n<td>M9S\\n</td>\\n<td>Not assigned\\n</td>\\n<td>\\n</td></tr>\\n<tr>\\n<td>M1T\\n</td>\\n<td>Scarborough\\n</td>\\n<td>Clarks Corners, Tam O\\'Shanter, Sullivan\\n</td></tr>\\n<tr>\\n<td>M2T\\n</td>\\n<td>Not assigned\\n</td>\\n<td>\\n</td></tr>\\n<tr>\\n<td>M3T\\n</td>\\n<td>Not assigned\\n</td>\\n<td>\\n</td></tr>\\n<tr>\\n<td>M4T\\n</td>\\n<td>Central Toronto\\n</td>\\n<td>Moore Park, Summerhill East\\n</td></tr>\\n<tr>\\n<td>M5T\\n</td>\\n<td>Downtown Toronto\\n</td>\\n<td>Kensington Market, Chinatown, Grange Park\\n</td></tr>\\n<tr>\\n<td>M6T\\n</td>\\n<td>Not assigned\\n</td>\\n<td>\\n</td></tr>\\n<tr>\\n<td>M7T\\n</td>\\n<td>Not assigned\\n</td>\\n<td>\\n</td></tr>\\n<tr>\\n<td>M8T\\n</td>\\n<td>Not assigned\\n</td>\\n<td>\\n</td></tr>\\n<tr>\\n<td>M9T\\n</td>\\n<td>Not assigned\\n</td>\\n<td>\\n</td></tr>\\n<tr>\\n<td>M1V\\n</td>\\n<td>Scarborough\\n</td>\\n<td>Milliken, Agincourt North, Steeles East, L\\'Amoreaux East\\n</td></tr>\\n<tr>\\n<td>M2V\\n</td>\\n<td>Not assigned\\n</td>\\n<td>\\n</td></tr>\\n<tr>\\n<td>M3V\\n</td>\\n<td>Not assigned\\n</td>\\n<td>\\n</td></tr>\\n<tr>\\n<td>M4V\\n</td>\\n<td>Central Toronto\\n</td>\\n<td>Summerhill West, Rathnelly, South Hill, Forest Hill SE, Deer Park\\n</td></tr>\\n<tr>\\n<td>M5V\\n</td>\\n<td>Downtown Toronto\\n</td>\\n<td>CN Tower, King and Spadina, Railway Lands, Harbourfront West, Bathurst Quay, South Niagara, Island airport\\n</td></tr>\\n<tr>\\n<td>M6V\\n</td>\\n<td>Not assigned\\n</td>\\n<td>\\n</td></tr>\\n<tr>\\n<td>M7V\\n</td>\\n<td>Not assigned\\n</td>\\n<td>\\n</td></tr>\\n<tr>\\n<td>M8V\\n</td>\\n<td>Etobicoke\\n</td>\\n<td>New Toronto, Mimico South, Humber Bay Shores\\n</td></tr>\\n<tr>\\n<td>M9V\\n</td>\\n<td>Etobicoke\\n</td>\\n<td>South Steeles, Silverstone, Humbergate, Jamestown, Mount Olive, Beaumond Heights, Thistletown, Albion Gardens\\n</td></tr>\\n<tr>\\n<td>M1W\\n</td>\\n<td>Scarborough\\n</td>\\n<td>Steeles West, L\\'Amoreaux West\\n</td></tr>\\n<tr>\\n<td>M2W\\n</td>\\n<td>Not assigned\\n</td>\\n<td>\\n</td></tr>\\n<tr>\\n<td>M3W\\n</td>\\n<td>Not assigned\\n</td>\\n<td>\\n</td></tr>\\n<tr>\\n<td>M4W\\n</td>\\n<td>Downtown Toronto\\n</td>\\n<td>Rosedale\\n</td></tr>\\n<tr>\\n<td>M5W\\n</td>\\n<td>Downtown Toronto\\n</td>\\n<td>Stn A PO Boxes\\n</td></tr>\\n<tr>\\n<td>M6W\\n</td>\\n<td>Not assigned\\n</td>\\n<td>\\n</td></tr>\\n<tr>\\n<td>M7W\\n</td>\\n<td>Not assigned\\n</td>\\n<td>\\n</td></tr>\\n<tr>\\n<td>M8W\\n</td>\\n<td>Etobicoke\\n</td>\\n<td>Alderwood, Long Branch\\n</td></tr>\\n<tr>\\n<td>M9W\\n</td>\\n<td>Etobicoke\\n</td>\\n<td>Northwest, West Humber - Clairville\\n</td></tr>\\n<tr>\\n<td>M1X\\n</td>\\n<td>Scarborough\\n</td>\\n<td>Upper Rouge\\n</td></tr>\\n<tr>\\n<td>M2X\\n</td>\\n<td>Not assigned\\n</td>\\n<td>\\n</td></tr>\\n<tr>\\n<td>M3X\\n</td>\\n<td>Not assigned\\n</td>\\n<td>\\n</td></tr>\\n<tr>\\n<td>M4X\\n</td>\\n<td>Downtown Toronto\\n</td>\\n<td>St. James Town, Cabbagetown\\n</td></tr>\\n<tr>\\n<td>M5X\\n</td>\\n<td>Downtown Toronto\\n</td>\\n<td>First Canadian Place, Underground city\\n</td></tr>\\n<tr>\\n<td>M6X\\n</td>\\n<td>Not assigned\\n</td>\\n<td>\\n</td></tr>\\n<tr>\\n<td>M7X\\n</td>\\n<td>Not assigned\\n</td>\\n<td>\\n</td></tr>\\n<tr>\\n<td>M8X\\n</td>\\n<td>Etobicoke\\n</td>\\n<td>The Kingsway, Montgomery Road, Old Mill North\\n</td></tr>\\n<tr>\\n<td>M9X\\n</td>\\n<td>Not assigned\\n</td>\\n<td>\\n</td></tr>\\n<tr>\\n<td>M1Y\\n</td>\\n<td>Not assigned\\n</td>\\n<td>\\n</td></tr>\\n<tr>\\n<td>M2Y\\n</td>\\n<td>Not assigned\\n</td>\\n<td>\\n</td></tr>\\n<tr>\\n<td>M3Y\\n</td>\\n<td>Not assigned\\n</td>\\n<td>\\n</td></tr>\\n<tr>\\n<td>M4Y\\n</td>\\n<td>Downtown Toronto\\n</td>\\n<td>Church and Wellesley\\n</td></tr>\\n<tr>\\n<td>M5Y\\n</td>\\n<td>Not assigned\\n</td>\\n<td>\\n</td></tr>\\n<tr>\\n<td>M6Y\\n</td>\\n<td>Not assigned\\n</td>\\n<td>\\n</td></tr>\\n<tr>\\n<td>M7Y\\n</td>\\n<td>East Toronto\\n</td>\\n<td>Business reply mail Processing Centre, South Central Letter Processing Plant Toronto\\n</td></tr>\\n<tr>\\n<td>M8Y\\n</td>\\n<td>Etobicoke\\n</td>\\n<td>Old Mill South, King\\'s Mill Park, Sunnylea, Humber Bay, Mimico NE, The Queensway East, Royal York South East, Kingsway Park South East\\n</td></tr>\\n<tr>\\n<td>M9Y\\n</td>\\n<td>Not assigned\\n</td>\\n<td>\\n</td></tr>\\n<tr>\\n<td>M1Z\\n</td>\\n<td>Not assigned\\n</td>\\n<td>\\n</td></tr>\\n<tr>\\n<td>M2Z\\n</td>\\n<td>Not assigned\\n</td>\\n<td>\\n</td></tr>\\n<tr>\\n<td>M3Z\\n</td>\\n<td>Not assigned\\n</td>\\n<td>\\n</td></tr>\\n<tr>\\n<td>M4Z\\n</td>\\n<td>Not assigned\\n</td>\\n<td>\\n</td></tr>\\n<tr>\\n<td>M5Z\\n</td>\\n<td>Not assigned\\n</td>\\n<td>\\n</td></tr>\\n<tr>\\n<td>M6Z\\n</td>\\n<td>Not assigned\\n</td>\\n<td>\\n</td></tr>\\n<tr>\\n<td>M7Z\\n</td>\\n<td>Not assigned\\n</td>\\n<td>\\n</td></tr>\\n<tr>\\n<td>M8Z\\n</td>\\n<td>Etobicoke\\n</td>\\n<td>Mimico NW, The Queensway West, South of Bloor, Kingsway Park South West, Royal York South West\\n</td></tr>\\n<tr>\\n<td>M9Z\\n</td>\\n<td>Not assigned\\n</td>\\n<td>\\n</td></tr></tbody></table>\\n<h2><span id=\"Most_populated_FSAs.5B3.5D\"></span><span class=\"mw-headline\" id=\"Most_populated_FSAs[3]\">Most populated FSAs<sup id=\"cite_ref-statcan_3-0\" class=\"reference\"><a href=\"#cite_note-statcan-3\">&#91;3&#93;</a></sup></span><span class=\"mw-editsection\"><span class=\"mw-editsection-bracket\">[</span><a href=\"/w/index.php?title=List_of_postal_codes_of_Canada:_M&amp;action=edit&amp;section=2\" title=\"Edit section: Most populated FSAs[3]\">edit</a><span class=\"mw-editsection-bracket\">]</span></span></h2>\\n<ol><li>M1B, 65,129http://www.rfc-editor.org/info/rfc7617</li>\\n<li>M2N, 60,124http://www.rfc-editor.org/info/rfc7617</li>\\n<li>M1V, 55,250http://www.rfc-editor.org/info/rfc7617</li>\\n<li>M9V, 55,159http://www.rfc-editor.org/info/rfc7617</li>\\n<li>M2J, 54,391http://www.rfc-editor.org/info/rfc7617</li></ol>\\n<h2><span id=\"Least_populated_FSAs.5B3.5D\"></span><span class=\"mw-headline\" id=\"Least_populated_FSAs[3]\">Least populated FSAs<sup id=\"cite_ref-statcan_3-1\" class=\"reference\"><a href=\"#cite_note-statcan-3\">&#91;3&#93;</a></sup></span><span class=\"mw-editsection\"><span class=\"mw-editsection-bracket\">[</span><a href=\"/w/index.php?title=List_of_postal_codes_of_Canada:_M&amp;action=edit&amp;section=3\" title=\"Edit section: Least populated FSAs[3]\">edit</a><span class=\"mw-editsection-bracket\">]</span></span></h2>\\n<ol><li>M5K, 5</li>\\n<li>M5L, 5</li>\\n<li>M5W, 5</li>\\n<li>M5X, 5</li>\\n<li>M7A, 5</li></ol>\\n<h2><span class=\"mw-headline\" id=\"References\">References</span><span class=\"mw-editsection\"><span class=\"mw-editsection-bracket\">[</span><a href=\"/w/index.php?title=List_of_postal_codes_of_Canada:_M&amp;action=edit&amp;section=4\" title=\"Edit section: References\">edit</a><span class=\"mw-editsection-bracket\">]</span></span></h2>\\n<div class=\"mw-references-wrap\"><ol class=\"references\">\\n<li id=\"cite_note-1\"><span class=\"mw-cite-backlink\"><b><a href=\"#cite_ref-1\">^</a></b></span> <span class=\"reference-text\">\\n<cite id=\"CITEREFCanada_Post\" class=\"citation web\">Canada Post. <a rel=\"nofollow\" class=\"external text\" href=\"https://www.canadapost.ca/cpotools/apps/fpc/personal/findByCity?execution=e2s1\">\"Canada Post - Find a Postal Code\"</a><span class=\"reference-accessdate\">. Retrieved <span class=\"nowrap\">9 November</span> 2008</span>.</cite><span title=\"ctx_ver=Z39.88-2004&amp;rft_val_fmt=info%3Aofi%2Ffmt%3Akev%3Amtx%3Abook&amp;rft.genre=unknown&amp;rft.btitle=Canada+Post+-+Find+a+Postal+Code&amp;rft.au=Canada+Post&amp;rft_id=https%3A%2F%2Fwww.canadapost.ca%2Fcpotools%2Fapps%2Ffpc%2Fpersonal%2FfindByCity%3Fexecution%3De2s1&amp;rfr_id=info%3Asid%2Fen.wikipedia.org%3AList+of+postal+codes+of+Canada%3A+M\" class=\"Z3988\"></span><style data-mw-deduplicate=\"TemplateStyles:r951705291\">.mw-parser-output cite.citation{font-style:inherit}.mw-parser-output .citation q{quotes:\"\\\\\"\"\"\\\\\"\"\"\\'\"\"\\'\"}.mw-parser-output .id-lock-free a,.mw-parser-output .citation .cs1-lock-free a{background-image:url(\"//upload.wikimedia.org/wikipedia/commons/thumb/6/65/Lock-green.svg/9px-Lock-green.svg.png\");background-image:linear-gradient(transparent,transparent),url(\"//upload.wikimedia.org/wikipedia/commons/6/65/Lock-green.svg\");background-repeat:no-repeat;background-size:9px;background-position:right .1em center}.mw-parser-output .id-lock-limited a,.mw-parser-output .id-lock-registration a,.mw-parser-output .citation .cs1-lock-limited a,.mw-parser-output .citation .cs1-lock-registration a{background-image:url(\"//upload.wikimedia.org/wikipedia/commons/thumb/d/d6/Lock-gray-alt-2.svg/9px-Lock-gray-alt-2.svg.png\");background-image:linear-gradient(transparent,transparent),url(\"//upload.wikimedia.org/wikipedia/commons/d/d6/Lock-gray-alt-2.svg\");background-repeat:no-repeat;background-size:9px;background-position:right .1em center}.mw-parser-output .id-lock-subscription a,.mw-parser-output .citation .cs1-lock-subscription a{background-image:url(\"//upload.wikimedia.org/wikipedia/commons/thumb/a/aa/Lock-red-alt-2.svg/9px-Lock-red-alt-2.svg.png\");background-image:linear-gradient(transparent,transparent),url(\"//upload.wikimedia.org/wikipedia/commons/a/aa/Lock-red-alt-2.svg\");background-repeat:no-repeat;background-size:9px;background-position:right .1em center}.mw-parser-output .cs1-subscription,.mw-parser-output .cs1-registration{color:#555}.mw-parser-output .cs1-subscription span,.mw-parser-output .cs1-registration span{border-bottom:1px dotted;cursor:help}.mw-parser-output .cs1-ws-icon a{background-image:url(\"//upload.wikimedia.org/wikipedia/commons/thumb/4/4c/Wikisource-logo.svg/12px-Wikisource-logo.svg.png\");background-image:linear-gradient(transparent,transparent),url(\"//upload.wikimedia.org/wikipedia/commons/4/4c/Wikisource-logo.svg\");background-repeat:no-repeat;background-size:12px;background-position:right .1em center}.mw-parser-output code.cs1-code{color:inherit;background:inherit;border:inherit;padding:inherit}.mw-parser-output .cs1-hidden-error{display:none;font-size:100%}.mw-parser-output .cs1-visible-error{font-size:100%}.mw-parser-output .cs1-maint{display:none;color:#33aa33;margin-left:0.3em}.mw-parser-output .cs1-subscription,.mw-parser-output .cs1-registration,.mw-parser-output .cs1-format{font-size:95%}.mw-parser-output .cs1-kern-left,.mw-parser-output .cs1-kern-wl-left{padding-left:0.2em}.mw-parser-output .cs1-kern-right,.mw-parser-output .cs1-kern-wl-right{padding-right:0.2em}.mw-parser-output .citation .mw-selflink{font-weight:inherit}</style></span>\\n</li>\\n<li id=\"cite_note-2\"><span class=\"mw-cite-backlink\"><b><a href=\"#cite_ref-2\">^</a></b></span> <span class=\"reference-text\"><cite class=\"citation web\"><a rel=\"nofollow\" class=\"external text\" href=\"https://web.archive.org/web/20110519093024/http://www.canadapost.ca/cpo/mc/personal/tools/mobileapp/default.jsf\">\"Mobile Apps\"</a>. Canada Post. Archived from <a rel=\"nofollow\" class=\"external text\" href=\"http://www.canadapost.ca/cpo/mc/personal/tools/mobileapp/default.jsf\">the original</a> on 2011-05-19.</cite><span title=\"ctx_ver=Z39.88-2004&amp;rft_val_fmt=info%3Aofi%2Ffmt%3Akev%3Amtx%3Abook&amp;rft.genre=unknown&amp;rft.btitle=Mobile+Apps&amp;rft.pub=Canada+Post&amp;rft_id=http%3A%2F%2Fwww.canadapost.ca%2Fcpo%2Fmc%2Fpersonal%2Ftools%2Fmobileapp%2Fdefault.jsf&amp;rfr_id=info%3Asid%2Fen.wikipedia.org%3AList+of+postal+codes+of+Canada%3A+M\" class=\"Z3988\"></span><link rel=\"mw-deduplicated-inline-style\" href=\"mw-data:TemplateStyles:r951705291\"/></span>\\n</li>\\n<li id=\"cite_note-statcan-3\"><span class=\"mw-cite-backlink\">^ <a href=\"#cite_ref-statcan_3-0\"><sup><i><b>a</b></i></sup></a> <a href=\"#cite_ref-statcan_3-1\"><sup><i><b>b</b></i></sup></a></span> <span class=\"reference-text\"><cite class=\"citation web\"><a rel=\"nofollow\" class=\"external text\" href=\"http://www12.statcan.ca/english/census06/data/popdwell/Table.cfm?T=1201&amp;SR=1&amp;S=0&amp;O=A&amp;RPP=9999&amp;PR=0&amp;CMA=0\">\"2006 Census of Population\"</a>. 15 October 2008.</cite><span title=\"ctx_ver=Z39.88-2004&amp;rft_val_fmt=info%3Aofi%2Ffmt%3Akev%3Amtx%3Abook&amp;rft.genre=unknown&amp;rft.btitle=2006+Census+of+Population&amp;rft.date=2008-10-15&amp;rft_id=http%3A%2F%2Fwww12.statcan.ca%2Fenglish%2Fcensus06%2Fdata%2Fpopdwell%2FTable.cfm%3FT%3D1201%26SR%3D1%26S%3D0%26O%3DA%26RPP%3D9999%26PR%3D0%26CMA%3D0&amp;rfr_id=info%3Asid%2Fen.wikipedia.org%3AList+of+postal+codes+of+Canada%3A+M\" class=\"Z3988\"></span><link rel=\"mw-deduplicated-inline-style\" href=\"mw-data:TemplateStyles:r951705291\"/></span>\\n</li>\\n</ol></div>\\n<table class=\"navbox\">\\n<tbody><tr>\\n<td style=\"width:36px; text-align:center\"><a href=\"/wiki/File:Flag_of_Canada.svg\" class=\"image\" title=\"Flag of Canada\"><img alt=\"Flag of Canada\" src=\"//upload.wikimedia.org/wikipedia/en/thumb/c/cf/Flag_of_Canada.svg/36px-Flag_of_Canada.svg.png\" decoding=\"async\" width=\"36\" height=\"18\" srcset=\"//upload.wikimedia.org/wikipedia/en/thumb/c/cf/Flag_of_Canada.svg/54px-Flag_of_Canada.svg.png 1.5x, //upload.wikimedia.org/wikipedia/en/thumb/c/cf/Flag_of_Canada.svg/72px-Flag_of_Canada.svg.png 2x\" data-file-width=\"1200\" data-file-height=\"600\" /></a>\\n</td>\\n<th class=\"navbox-title\" style=\"font-size:110%\"><a href=\"/wiki/Postal_codes_in_Canada\" title=\"Postal codes in Canada\">Canadian postal codes</a>\\n</th>\\n<td style=\"width:36px; text-align:center\"><a href=\"/wiki/File:Canadian_postal_district_map_(without_legends).svg\" class=\"image\"><img alt=\"Canadian postal district map (without legends).svg\" src=\"//upload.wikimedia.org/wikipedia/commons/thumb/e/eb/Canadian_postal_district_map_%28without_legends%29.svg/21px-Canadian_postal_district_map_%28without_legends%29.svg.png\" decoding=\"async\" width=\"21\" height=\"18\" srcset=\"//upload.wikimedia.org/wikipedia/commons/thumb/e/eb/Canadian_postal_district_map_%28without_legends%29.svg/32px-Canadian_postal_district_map_%28without_legends%29.svg.png 1.5x, //upload.wikimedia.org/wikipedia/commons/thumb/e/eb/Canadian_postal_district_map_%28without_legends%29.svg/43px-Canadian_postal_district_map_%28without_legends%29.svg.png 2x\" data-file-width=\"1000\" data-file-height=\"846\" /></a>\\n</td></tr>\\n<tr>\\n<td style=\"text-align:center; font-size: 100%;\" colspan=\"3\">\\n<table width=\"100%\" style=\"background-color: #F8F8F8;\" cellspacing=\"0\">\\n<tbody><tr>\\n<td style=\"text-align:center; border:1px solid #aaa;\"><a href=\"/wiki/Newfoundland_and_Labrador\" title=\"Newfoundland and Labrador\">NL</a>\\n</td>\\n<td style=\"text-align:center; border:1px solid #aaa;\"><a href=\"/wiki/Nova_Scotia\" title=\"Nova Scotia\">NS</a>\\n</td>\\n<td style=\"text-align:center; border:1px solid #aaa;\"><a href=\"/wiki/Prince_Edward_Island\" title=\"Prince Edward Island\">PE</a>\\n</td>\\n<td style=\"text-align:center; border:1px solid #aaa;\"><a href=\"/wiki/New_Brunswick\" title=\"New Brunswick\">NB</a>\\n</td>\\n<td style=\"text-align:center; border:1px solid #aaa;\" colspan=\"3\"><a href=\"/wiki/Quebec\" title=\"Quebec\">QC</a>\\n</td>\\n<td style=\"text-align:center; border:1px solid #aaa;\" colspan=\"5\"><a href=\"/wiki/Ontario\" title=\"Ontario\">ON</a>\\n</td>\\n<td style=\"text-align:center; border:1px solid #aaa;\"><a href=\"/wiki/Manitoba\" title=\"Manitoba\">MB</a>\\n</td>\\n<td style=\"text-align:center; border:1px solid #aaa;\"><a href=\"/wiki/Saskatchewan\" title=\"Saskatchewan\">SK</a>\\n</td>\\n<td style=\"text-align:center; border:1px solid #aaa;\"><a href=\"/wiki/Alberta\" title=\"Alberta\">AB</a>\\n</td>\\n<td style=\"text-align:center; border:1px solid #aaa;\"><a href=\"/wiki/British_Columbia\" title=\"British Columbia\">BC</a>\\n</td>\\n<td style=\"text-align:center; border:1px solid #aaa;\"><a href=\"/wiki/Nunavut\" title=\"Nunavut\">NU</a>/<a href=\"/wiki/Northwest_Territories\" title=\"Northwest Territories\">NT</a>\\n</td>\\n<td style=\"text-align:center; border:1px solid #aaa;\"><a href=\"/wiki/Yukon\" title=\"Yukon\">YT</a>\\n</td></tr>\\n<tr>\\n<td style=\"border: 1px solid #FF0000; background-color: #FFE0E0; font-size: 135%;\" align=\"center\" width=\"5%\"><a href=\"/wiki/List_of_postal_codes_of_Canada:_A\" title=\"List of postal codes of Canada: A\">A</a>\\n</td>\\n<td style=\"border: 1px solid #FF4000; background-color: #FFE8E0; font-size: 135%;\" align=\"center\" width=\"5%\"><a href=\"/wiki/List_of_postal_codes_of_Canada:_B\" title=\"List of postal codes of Canada: B\">B</a>\\n</td>\\n<td style=\"border: 1px solid #FF8000; background-color: #FFF0E0; font-size: 135%;\" align=\"center\" width=\"5%\"><a href=\"/wiki/List_of_postal_codes_of_Canada:_C\" title=\"List of postal codes of Canada: C\">C</a>\\n</td>\\n<td style=\"border: 1px solid #FFC000; background-color: #FFF8E0; font-size: 135%;\" align=\"center\" width=\"5%\"><a href=\"/wiki/List_of_postal_codes_of_Canada:_E\" title=\"List of postal codes of Canada: E\">E</a>\\n</td>\\n<td style=\"border: 1px solid #FFFF00; background-color: #FFFFE0; font-size: 135%;\" align=\"center\" width=\"5%\"><a href=\"/wiki/List_of_postal_codes_of_Canada:_G\" title=\"List of postal codes of Canada: G\">G</a>\\n</td>\\n<td style=\"border: 1px solid #C0FF00; background-color: #F8FFE0; font-size: 135%;\" align=\"center\" width=\"5%\"><a href=\"/wiki/List_of_postal_codes_of_Canada:_H\" title=\"List of postal codes of Canada: H\">H</a>\\n</td>\\n<td style=\"border: 1px solid #80FF00; background-color: #F0FFE0; font-size: 135%;\" align=\"center\" width=\"5%\"><a href=\"/wiki/List_of_postal_codes_of_Canada:_J\" title=\"List of postal codes of Canada: J\">J</a>\\n</td>\\n<td style=\"border: 1px solid #00FF00; background-color: #E0FFE0; font-size: 135%;\" align=\"center\" width=\"5%\"><a href=\"/wiki/List_of_postal_codes_of_Canada:_K\" title=\"List of postal codes of Canada: K\">K</a>\\n</td>\\n<td style=\"border: 1px solid #00FF80; background-color: #E0FFF0; font-size: 135%;\" align=\"center\" width=\"5%\"><a href=\"/wiki/List_of_postal_codes_of_Canada:_L\" title=\"List of postal codes of Canada: L\">L</a>\\n</td>\\n<td style=\"border: 1px solid #E0FFF8; background-color: #00FFC0; font-size: 135%; color: black;\" align=\"center\" width=\"5%\"><a class=\"mw-selflink selflink\">M</a>\\n</td>\\n<td style=\"border: 1px solid #00FFE0; background-color: #E0FFFC; font-size: 135%;\" align=\"center\" width=\"5%\"><a href=\"/wiki/List_of_postal_codes_of_Canada:_N\" title=\"List of postal codes of Canada: N\">N</a>\\n</td>\\n<td style=\"border: 1px solid #00FFFF; background-color: #E0FFFF; font-size: 135%;\" align=\"center\" width=\"5%\"><a href=\"/wiki/List_of_postal_codes_of_Canada:_P\" title=\"List of postal codes of Canada: P\">P</a>\\n</td>\\n<td style=\"border: 1px solid #00C0FF; background-color: #E0F8FF; font-size: 135%;\" align=\"center\" width=\"5%\"><a href=\"/wiki/List_of_postal_codes_of_Canada:_R\" title=\"List of postal codes of Canada: R\">R</a>\\n</td>\\n<td style=\"border: 1px solid #0080FF; background-color: #E0F0FF; font-size: 135%;\" align=\"center\" width=\"5%\"><a href=\"/wiki/List_of_postal_codes_of_Canada:_S\" title=\"List of postal codes of Canada: S\">S</a>\\n</td>\\n<td style=\"border: 1px solid #0040FF; background-color: #E0E8FF; font-size: 135%;\" align=\"center\" width=\"5%\"><a href=\"/wiki/List_of_postal_codes_of_Canada:_T\" title=\"List of postal codes of Canada: T\">T</a>\\n</td>\\n<td style=\"border: 1px solid #0000FF; background-color: #E0E0FF; font-size: 135%;\" align=\"center\" width=\"5%\"><a href=\"/wiki/List_of_postal_codes_of_Canada:_V\" title=\"List of postal codes of Canada: V\">V</a>\\n</td>\\n<td style=\"border: 1px solid #A000FF; background-color: #E8E0FF; font-size: 135%;\" align=\"center\" width=\"5%\"><a href=\"/wiki/List_of_postal_codes_of_Canada:_X\" title=\"List of postal codes of Canada: X\">X</a>\\n</td>\\n<td style=\"border: 1px solid #FF00FF; background-color: #FFE0FF; font-size: 135%;\" align=\"center\" width=\"5%\"><a href=\"/wiki/List_of_postal_codes_of_Canada:_Y\" title=\"List of postal codes of Canada: Y\">Y</a>\\n</td></tr></tbody></table>\\n</td></tr></tbody></table>\\n<!-- \\nNewPP limit report\\nParsed by mw1390\\nCached time: 20200523193226\\nCache expiry: 2592000\\nDynamic content: false\\nComplications: [vary‐revision‐sha1]\\nCPU time usage: 0.152 seconds\\nReal time usage: 0.207 seconds\\nPreprocessor visited node count: 251/1000000\\nPost‐expand include size: 10509/2097152 bytes\\nTemplate argument size: 195/2097152 bytes\\nHighest expansion depth: 8/40\\nExpensive parser function count: 0/500\\nUnstrip recursion depth: 1/20\\nUnstrip post‐expand size: 11794/5000000 bytes\\nNumber of Wikibase entities loaded: 0/400\\nLua time usage: 0.077/10.000 seconds\\nLua memory usage: 2.33 MB/50 MB\\n-->\\n<!--\\nTransclusion expansion time report (%,ms,calls,template)\\n100.00%  161.264      1 -total\\n 57.82%   93.248      3 Template:Cite_web\\n 33.87%   54.616      1 Template:Short_description\\n 23.82%   38.417      1 Template:Pagetype\\n  2.40%    3.870      1 Template:Canadian_postal_codes\\n  2.07%    3.335      1 Template:Main_other\\n-->\\n\\n<!-- Saved in parser cache with key enwiki:pcache:idhash:539066-0!canonical and timestamp 20200523193234 and revision id 958430791\\n -->\\n</div><noscript><img src=\"//en.wikipedia.org/wiki/Special:CentralAutoLogin/start?type=1x1\" alt=\"\" title=\"\" width=\"1\" height=\"1\" style=\"border: none; position: absolute;\" /></noscript></div>\\n\\t\\t<div class=\"printfooter\">Retrieved from \"<a dir=\"ltr\" href=\"https://en.wikipedia.org/w/index.php?title=List_of_postal_codes_of_Canada:_M&amp;oldid=958430791\">https://en.wikipedia.org/w/index.php?title=List_of_postal_codes_of_Canada:_M&amp;oldid=958430791</a>\"</div>\\n\\t\\t<div id=\"catlinks\" class=\"catlinks\" data-mw=\"interface\"><div id=\"mw-normal-catlinks\" class=\"mw-normal-catlinks\"><a href=\"/wiki/Help:Category\" title=\"Help:Category\">Categories</a>: <ul><li><a href=\"/wiki/Category:Communications_in_Ontario\" title=\"Category:Communications in Ontario\">Communications in Ontario</a></li><li><a href=\"/wiki/Category:Postal_codes_in_Canada\" title=\"Category:Postal codes in Canada\">Postal codes in Canada</a></li><li><a href=\"/wiki/Category:Toronto\" title=\"Category:Toronto\">Toronto</a></li><li><a href=\"/wiki/Category:Ontario-related_lists\" title=\"Category:Ontario-related lists\">Ontario-related lists</a></li></ul></div><div id=\"mw-hidden-catlinks\" class=\"mw-hidden-catlinks mw-hidden-cats-hidden\">Hidden categories: <ul><li><a href=\"/wiki/Category:Articles_with_short_description\" title=\"Category:Articles with short description\">Articles with short description</a></li></ul></div></div>\\n\\t\\t<div class=\"visualClear\"></div>\\n\\t\\t\\n\\t</div>\\n</div>\\n<div id=\\'mw-data-after-content\\'>\\n\\t<div class=\"read-more-container\"></div>\\n</div>\\n\\n<div id=\"mw-navigation\">\\n\\t<h2>Navigation menu</h2>\\n\\t<div id=\"mw-head\">\\n\\t\\t\\n<div id=\"p-personal\" role=\"navigation\" class=\"\" aria-labelledby=\"p-personal-label\">\\n\\t<h3 id=\"p-personal-label\">Personal tools</h3>\\n\\t<ul >\\n\\t\\t<li id=\"pt-anonuserpage\">Not logged in</li><li id=\"pt-anontalk\"><a href=\"/wiki/Special:MyTalk\" title=\"Discussion about edits from this IP address [n]\" accesskey=\"n\">Talk</a></li><li id=\"pt-anoncontribs\"><a href=\"/wiki/Special:MyContributions\" title=\"A list of edits made from this IP address [y]\" accesskey=\"y\">Contributions</a></li><li id=\"pt-createaccount\"><a href=\"/w/index.php?title=Special:CreateAccount&amp;returnto=List+of+postal+codes+of+Canada%3A+M\" title=\"You are encouraged to create an account and log in; however, it is not mandatory\">Create account</a></li><li id=\"pt-login\"><a href=\"/w/index.php?title=Special:UserLogin&amp;returnto=List+of+postal+codes+of+Canada%3A+M\" title=\"You&#039;re encouraged to log in; however, it&#039;s not mandatory. [o]\" accesskey=\"o\">Log in</a></li>\\n\\t</ul>\\n</div>\\n\\n\\t\\t<div id=\"left-navigation\">\\n\\t\\t\\t<div id=\"p-namespaces\" role=\"navigation\" class=\"vectorTabs\" aria-labelledby=\"p-namespaces-label\">\\n\\t<h3 id=\"p-namespaces-label\">Namespaces</h3>\\n\\t<ul >\\n\\t\\t<li id=\"ca-nstab-main\" class=\"selected\"><a href=\"/wiki/List_of_postal_codes_of_Canada:_M\" title=\"View the content page [c]\" accesskey=\"c\">Article</a></li><li id=\"ca-talk\"><a href=\"/wiki/Talk:List_of_postal_codes_of_Canada:_M\" rel=\"discussion\" title=\"Discuss improvements to the content page [t]\" accesskey=\"t\">Talk</a></li>\\n\\t</ul>\\n</div>\\n\\n\\t\\t\\t<div id=\"p-variants\" role=\"navigation\" class=\"emptyPortlet vectorMenu\" aria-labelledby=\"p-variants-label\">\\n\\t<input type=\"checkbox\" class=\"vectorMenuCheckbox\" aria-labelledby=\"p-variants-label\" />\\n\\t<h3 id=\"p-variants-label\">\\n\\t\\t<span>Variants</span>\\n\\t</h3>\\n\\t<ul class=\"menu\" >\\n\\t\\t\\n\\t</ul>\\n</div>\\n\\n\\t\\t</div>\\n\\t\\t<div id=\"right-navigation\">\\n\\t\\t\\t<div id=\"p-views\" role=\"navigation\" class=\"vectorTabs\" aria-labelledby=\"p-views-label\">\\n\\t<h3 id=\"p-views-label\">Views</h3>\\n\\t<ul >\\n\\t\\t<li id=\"ca-view\" class=\"collapsible selected\"><a href=\"/wiki/List_of_postal_codes_of_Canada:_M\">Read</a></li><li id=\"ca-edit\" class=\"collapsible\"><a href=\"/w/index.php?title=List_of_postal_codes_of_Canada:_M&amp;action=edit\" title=\"Edit this page [e]\" accesskey=\"e\">Edit</a></li><li id=\"ca-history\" class=\"collapsible\"><a href=\"/w/index.php?title=List_of_postal_codes_of_Canada:_M&amp;action=history\" title=\"Past revisions of this page [h]\" accesskey=\"h\">View history</a></li>\\n\\t</ul>\\n</div>\\n\\n\\t\\t\\t<div id=\"p-cactions\" role=\"navigation\" class=\"emptyPortlet vectorMenu\" aria-labelledby=\"p-cactions-label\">\\n\\t<input type=\"checkbox\" class=\"vectorMenuCheckbox\" aria-labelledby=\"p-cactions-label\" />\\n\\t<h3 id=\"p-cactions-label\">\\n\\t\\t<span>More</span>\\n\\t</h3>\\n\\t<ul class=\"menu\" >\\n\\t\\t\\n\\t</ul>\\n</div>\\n\\n\\t\\t\\t<div id=\"p-search\" role=\"search\">\\n\\t<h3 >\\n\\t\\t<label for=\"searchInput\">Search</label>\\n\\t</h3>\\n\\t<form action=\"/w/index.php\" id=\"searchform\">\\n\\t\\t<div id=\"simpleSearch\">\\n\\t\\t\\t<input type=\"search\" name=\"search\" placeholder=\"Search Wikipedia\" title=\"Search Wikipedia [f]\" accesskey=\"f\" id=\"searchInput\"/>\\n\\t\\t\\t<input type=\"hidden\" value=\"Special:Search\" name=\"title\"/>\\n\\t\\t\\t<input type=\"submit\" name=\"fulltext\" value=\"Search\" title=\"Search Wikipedia for this text\" id=\"mw-searchButton\" class=\"searchButton mw-fallbackSearchButton\"/>\\n\\t\\t\\t<input type=\"submit\" name=\"go\" value=\"Go\" title=\"Go to a page with this exact name if it exists\" id=\"searchButton\" class=\"searchButton\"/>\\n\\t\\t</div>\\n\\t</form>\\n</div>\\n\\n\\t\\t</div>\\n\\t</div>\\n\\t\\n<div id=\"mw-panel\">\\n\\t<div id=\"p-logo\" role=\"banner\">\\n\\t\\t<a  title=\"Visit the main page\" class=\"mw-wiki-logo\" href=\"/wiki/Main_Page\"></a>\\n\\t</div>\\n\\t<div class=\"portal portal-first\" role=\"navigation\" id=\"p-navigation\"  aria-labelledby=\"p-navigation-label\">\\n\\t<h3  id=\"p-navigation-label\">\\n\\t\\tNavigation\\n\\t</h3>\\n\\t<div class=\"body\">\\n\\t\\t<ul><li id=\"n-mainpage-description\"><a href=\"/wiki/Main_Page\" title=\"Visit the main page [z]\" accesskey=\"z\">Main page</a></li><li id=\"n-contents\"><a href=\"/wiki/Wikipedia:Contents\" title=\"Guides to browsing Wikipedia\">Contents</a></li><li id=\"n-featuredcontent\"><a href=\"/wiki/Wikipedia:Featured_content\" title=\"Featured content – the best of Wikipedia\">Featured content</a></li><li id=\"n-currentevents\"><a href=\"/wiki/Portal:Current_events\" title=\"Find background information on current events\">Current events</a></li><li id=\"n-randompage\"><a href=\"/wiki/Special:Random\" title=\"Load a random article [x]\" accesskey=\"x\">Random article</a></li><li id=\"n-sitesupport\"><a href=\"https://donate.wikimedia.org/wiki/Special:FundraiserRedirector?utm_source=donate&amp;utm_medium=sidebar&amp;utm_campaign=C13_en.wikipedia.org&amp;uselang=en\" title=\"Support us\">Donate to Wikipedia</a></li><li id=\"n-shoplink\"><a href=\"//shop.wikimedia.org\" title=\"Visit the Wikipedia store\">Wikipedia store</a></li></ul>\\n\\t\\t\\n\\t</div>\\n</div>\\n\\n\\n\\t<div class=\"portal\" role=\"navigation\" id=\"p-interaction\"  aria-labelledby=\"p-interaction-label\">\\n\\t<h3  id=\"p-interaction-label\">\\n\\t\\tInteraction\\n\\t</h3>\\n\\t<div class=\"body\">\\n\\t\\t<ul><li id=\"n-help\"><a href=\"/wiki/Help:Contents\" title=\"Guidance on how to use and edit Wikipedia\">Help</a></li><li id=\"n-aboutsite\"><a href=\"/wiki/Wikipedia:About\" title=\"Find out about Wikipedia\">About Wikipedia</a></li><li id=\"n-portal\"><a href=\"/wiki/Wikipedia:Community_portal\" title=\"About the project, what you can do, where to find things\">Community portal</a></li><li id=\"n-recentchanges\"><a href=\"/wiki/Special:RecentChanges\" title=\"A list of recent changes in the wiki [r]\" accesskey=\"r\">Recent changes</a></li><li id=\"n-contactpage\"><a href=\"//en.wikipedia.org/wiki/Wikipedia:Contact_us\" title=\"How to contact Wikipedia\">Contact page</a></li></ul>\\n\\t\\t\\n\\t</div>\\n</div>\\n\\n<div class=\"portal\" role=\"navigation\" id=\"p-tb\"  aria-labelledby=\"p-tb-label\">\\n\\t<h3  id=\"p-tb-label\">\\n\\t\\tTools\\n\\t</h3>\\n\\t<div class=\"body\">\\n\\t\\t<ul><li id=\"t-whatlinkshere\"><a href=\"/wiki/Special:WhatLinksHere/List_of_postal_codes_of_Canada:_M\" title=\"List of all English Wikipedia pages containing links to this page [j]\" accesskey=\"j\">What links here</a></li><li id=\"t-recentchangeslinked\"><a href=\"/wiki/Special:RecentChangesLinked/List_of_postal_codes_of_Canada:_M\" rel=\"nofollow\" title=\"Recent changes in pages linked from this page [k]\" accesskey=\"k\">Related changes</a></li><li id=\"t-upload\"><a href=\"/wiki/Wikipedia:File_Upload_Wizard\" title=\"Upload files [u]\" accesskey=\"u\">Upload file</a></li><li id=\"t-specialpages\"><a href=\"/wiki/Special:SpecialPages\" title=\"A list of all special pages [q]\" accesskey=\"q\">Special pages</a></li><li id=\"t-permalink\"><a href=\"/w/index.php?title=List_of_postal_codes_of_Canada:_M&amp;oldid=958430791\" title=\"Permanent link to this revision of the page\">Permanent link</a></li><li id=\"t-info\"><a href=\"/w/index.php?title=List_of_postal_codes_of_Canada:_M&amp;action=info\" title=\"More information about this page\">Page information</a></li><li id=\"t-wikibase\"><a href=\"https://www.wikidata.org/wiki/Special:EntityPage/Q3248240\" title=\"Link to connected data repository item [g]\" accesskey=\"g\">Wikidata item</a></li><li id=\"t-cite\"><a href=\"/w/index.php?title=Special:CiteThisPage&amp;page=List_of_postal_codes_of_Canada%3A_M&amp;id=958430791&amp;wpFormIdentifier=titleform\" title=\"Information on how to cite this page\">Cite this page</a></li></ul>\\n\\t\\t\\n\\t</div>\\n</div>\\n\\n<div class=\"portal\" role=\"navigation\" id=\"p-coll-print_export\"  aria-labelledby=\"p-coll-print_export-label\">\\n\\t<h3  id=\"p-coll-print_export-label\">\\n\\t\\tPrint/export\\n\\t</h3>\\n\\t<div class=\"body\">\\n\\t\\t<ul><li id=\"coll-download-as-rl\"><a href=\"/w/index.php?title=Special:ElectronPdf&amp;page=List+of+postal+codes+of+Canada%3A+M&amp;action=show-download-screen\">Download as PDF</a></li><li id=\"t-print\"><a href=\"/w/index.php?title=List_of_postal_codes_of_Canada:_M&amp;printable=yes\" title=\"Printable version of this page [p]\" accesskey=\"p\">Printable version</a></li></ul>\\n\\t\\t\\n\\t</div>\\n</div>\\n\\n<div class=\"portal\" role=\"navigation\" id=\"p-lang\"  aria-labelledby=\"p-lang-label\">\\n\\t<h3  id=\"p-lang-label\">\\n\\t\\tLanguages\\n\\t</h3>\\n\\t<div class=\"body\">\\n\\t\\t<ul><li class=\"interlanguage-link interwiki-fr\"><a href=\"https://fr.wikipedia.org/wiki/Liste_des_codes_postaux_canadiens_d%C3%A9butant_par_M\" title=\"Liste des codes postaux canadiens débutant par M – French\" lang=\"fr\" hreflang=\"fr\" class=\"interlanguage-link-target\">Français</a></li></ul>\\n\\t\\t<div class=\"after-portlet after-portlet-lang\"><span class=\"wb-langlinks-edit wb-langlinks-link\"><a href=\"https://www.wikidata.org/wiki/Special:EntityPage/Q3248240#sitelinks-wikipedia\" title=\"Edit interlanguage links\" class=\"wbc-editpage\">Edit links</a></span></div>\\n\\t</div>\\n</div>\\n\\n\\n</div>\\n\\n</div>\\n\\n<div id=\"footer\" class=\"mw-footer\" role=\"contentinfo\" >\\n\\t<ul id=\"footer-info\" >\\n\\t\\t<li id=\"footer-info-lastmod\"> This page was last edited on 23 May 2020, at 19:32<span class=\"anonymous-show\">&#160;(UTC)</span>.</li>\\n\\t\\t<li id=\"footer-info-copyright\">Text is available under the <a rel=\"license\" href=\"//en.wikipedia.org/wiki/Wikipedia:Text_of_Creative_Commons_Attribution-ShareAlike_3.0_Unported_License\">Creative Commons Attribution-ShareAlike License</a><a rel=\"license\" href=\"//creativecommons.org/licenses/by-sa/3.0/\" style=\"display:none;\"></a>;\\nadditional terms may apply.  By using this site, you agree to the <a href=\"//foundation.wikimedia.org/wiki/Terms_of_Use\">Terms of Use</a> and <a href=\"//foundation.wikimedia.org/wiki/Privacy_policy\">Privacy Policy</a>. Wikipedia® is a registered trademark of the <a href=\"//www.wikimediafoundation.org/\">Wikimedia Foundation, Inc.</a>, a non-profit organization.</li>\\n\\t</ul>\\n\\t<ul id=\"footer-places\" >\\n\\t\\t<li id=\"footer-places-privacy\"><a href=\"https://foundation.wikimedia.org/wiki/Privacy_policy\" class=\"extiw\" title=\"wmf:Privacy policy\">Privacy policy</a></li>\\n\\t\\t<li id=\"footer-places-about\"><a href=\"/wiki/Wikipedia:About\" title=\"Wikipedia:About\">About Wikipedia</a></li>\\n\\t\\t<li id=\"footer-places-disclaimer\"><a href=\"/wiki/Wikipedia:General_disclaimer\" title=\"Wikipedia:General disclaimer\">Disclaimers</a></li>\\n\\t\\t<li id=\"footer-places-contact\"><a href=\"//en.wikipedia.org/wiki/Wikipedia:Contact_us\">Contact Wikipedia</a></li>\\n\\t\\t<li id=\"footer-places-developers\"><a href=\"https://www.mediawiki.org/wiki/Special:MyLanguage/How_to_contribute\">Developers</a></li>\\n\\t\\t<li id=\"footer-places-statslink\"><a href=\"https://stats.wikimedia.org/#/en.wikipedia.org\">Statistics</a></li>\\n\\t\\t<li id=\"footer-places-cookiestatement\"><a href=\"https://foundation.wikimedia.org/wiki/Cookie_statement\">Cookie statement</a></li>\\n\\t\\t<li id=\"footer-places-mobileview\"><a href=\"//en.m.wikipedia.org/w/index.php?title=List_of_postal_codes_of_Canada:_M&amp;mobileaction=toggle_view_mobile\" class=\"noprint stopMobileRedirectToggle\">Mobile view</a></li>\\n\\t</ul>\\n\\t<ul id=\"footer-icons\" class=\"noprint\">\\n\\t\\t<li id=\"footer-copyrightico\"><a href=\"https://wikimediafoundation.org/\"><img src=\"/static/images/wikimedia-button.png\" srcset=\"/static/images/wikimedia-button-1.5x.png 1.5x, /static/images/wikimedia-button-2x.png 2x\" width=\"88\" height=\"31\" alt=\"Wikimedia Foundation\"/></a></li>\\n\\t\\t<li id=\"footer-poweredbyico\"><a href=\"https://www.mediawiki.org/\"><img src=\"/static/images/poweredby_mediawiki_88x31.png\" alt=\"Powered by MediaWiki\" srcset=\"/static/images/poweredby_mediawiki_132x47.png 1.5x, /static/images/poweredby_mediawiki_176x62.png 2x\" width=\"88\" height=\"31\"/></a></li>\\n\\t</ul>\\n\\t<div style=\"clear: both;\"></div>\\n</div>\\n\\n\\n<script>(RLQ=window.RLQ||[]).push(function(){mw.config.set({\"wgPageParseReport\":{\"limitreport\":{\"cputime\":\"0.152\",\"walltime\":\"0.207\",\"ppvisitednodes\":{\"value\":251,\"limit\":1000000},\"postexpandincludesize\":{\"value\":10509,\"limit\":2097152},\"templateargumentsize\":{\"value\":195,\"limit\":2097152},\"expansiondepth\":{\"value\":8,\"limit\":40},\"expensivefunctioncount\":{\"value\":0,\"limit\":500},\"unstrip-depth\":{\"value\":1,\"limit\":20},\"unstrip-size\":{\"value\":11794,\"limit\":5000000},\"entityaccesscount\":{\"value\":0,\"limit\":400},\"timingprofile\":[\"100.00%  161.264      1 -total\",\" 57.82%   93.248      3 Template:Cite_web\",\" 33.87%   54.616      1 Template:Short_description\",\" 23.82%   38.417      1 Template:Pagetype\",\"  2.40%    3.870      1 Template:Canadian_postal_codes\",\"  2.07%    3.335      1 Template:Main_other\"]},\"scribunto\":{\"limitreport-timeusage\":{\"value\":\"0.077\",\"limit\":\"10.000\"},\"limitreport-memusage\":{\"value\":2441747,\"limit\":52428800}},\"cachereport\":{\"origin\":\"mw1390\",\"timestamp\":\"20200523193226\",\"ttl\":2592000,\"transientcontent\":false}}});});</script>\\n<script type=\"application/ld+json\">{\"@context\":\"https:\\\\/\\\\/schema.org\",\"@type\":\"Article\",\"name\":\"List of postal codes of Canada: M\",\"url\":\"https:\\\\/\\\\/en.wikipedia.org\\\\/wiki\\\\/List_of_postal_codes_of_Canada:_M\",\"sameAs\":\"http:\\\\/\\\\/www.wikidata.org\\\\/entity\\\\/Q3248240\",\"mainEntity\":\"http:\\\\/\\\\/www.wikidata.org\\\\/entity\\\\/Q3248240\",\"author\":{\"@type\":\"Organization\",\"name\":\"Contributors to Wikimedia projects\"},\"publisher\":{\"@type\":\"Organization\",\"name\":\"Wikimedia Foundation, Inc.\",\"logo\":{\"@type\":\"ImageObject\",\"url\":\"https:\\\\/\\\\/www.wikimedia.org\\\\/static\\\\/images\\\\/wmf-hor-googpub.png\"}},\"datePublished\":\"2004-03-20T10:02:13Z\",\"dateModified\":\"2020-05-23T19:32:34Z\",\"headline\":\"Wikimedia list article\"}</script>\\n<script>(RLQ=window.RLQ||[]).push(function(){mw.config.set({\"wgBackendResponseTime\":103,\"wgHostname\":\"mw1366\"});});</script></body></html>\\n'"
      ]
     },
     "execution_count": 4,
     "metadata": {
      "tags": []
     },
     "output_type": "execute_result"
    }
   ],
   "source": [
    "data"
   ]
  },
  {
   "cell_type": "code",
   "execution_count": 0,
   "metadata": {
    "colab": {},
    "colab_type": "code",
    "id": "0RcXfP-Gpy1W"
   },
   "outputs": [],
   "source": [
    "# create three lists to store table data\n",
    "postalCodeList = []\n",
    "boroughList = []\n",
    "neighborhoodList = []"
   ]
  },
  {
   "cell_type": "markdown",
   "metadata": {
    "colab_type": "text",
    "id": "uycyriI_rEqx"
   },
   "source": [
    "### Using BeautifulSoup\n",
    "#### find the table\n",
    "soup.find('table').find_all('tr')\n",
    "\n",
    "#### find all the rows of the table\n",
    "soup.find('table').find_all('tr')\n",
    "\n",
    "#### for each row of the table, find all the table data\n",
    "for row in soup.find('table').find_all('tr'):\n",
    "    cells = row.find_all('td')"
   ]
  },
  {
   "cell_type": "code",
   "execution_count": 0,
   "metadata": {
    "colab": {},
    "colab_type": "code",
    "id": "8UitNwtasCZO"
   },
   "outputs": [],
   "source": [
    "# append the data into the respective lists\n",
    "for row in soup.find('table').find_all('tr'):\n",
    "    cells = row.find_all('td')\n",
    "    if(len(cells) > 0):\n",
    "        postalCodeList.append(cells[0].text.rstrip('\\n'))\n",
    "        boroughList.append(cells[1].text.rstrip('\\n'))\n",
    "        neighborhoodList.append(cells[2].text.rstrip('\\n')) # avoid new lines in neighborhood cell"
   ]
  },
  {
   "cell_type": "code",
   "execution_count": 7,
   "metadata": {
    "colab": {
     "base_uri": "https://localhost:8080/",
     "height": 202
    },
    "colab_type": "code",
    "id": "Lp_leq_e0-pR",
    "outputId": "4b3fb548-3a97-4357-b50c-aab9f56b316f"
   },
   "outputs": [
    {
     "data": {
      "text/html": [
       "<div>\n",
       "<style scoped>\n",
       "    .dataframe tbody tr th:only-of-type {\n",
       "        vertical-align: middle;\n",
       "    }\n",
       "\n",
       "    .dataframe tbody tr th {\n",
       "        vertical-align: top;\n",
       "    }\n",
       "\n",
       "    .dataframe thead th {\n",
       "        text-align: right;\n",
       "    }\n",
       "</style>\n",
       "<table border=\"1\" class=\"dataframe\">\n",
       "  <thead>\n",
       "    <tr style=\"text-align: right;\">\n",
       "      <th></th>\n",
       "      <th>PostalCode</th>\n",
       "      <th>Borough</th>\n",
       "      <th>Neighborhood</th>\n",
       "    </tr>\n",
       "  </thead>\n",
       "  <tbody>\n",
       "    <tr>\n",
       "      <th>0</th>\n",
       "      <td>M1A</td>\n",
       "      <td>Not assigned</td>\n",
       "      <td></td>\n",
       "    </tr>\n",
       "    <tr>\n",
       "      <th>1</th>\n",
       "      <td>M2A</td>\n",
       "      <td>Not assigned</td>\n",
       "      <td></td>\n",
       "    </tr>\n",
       "    <tr>\n",
       "      <th>2</th>\n",
       "      <td>M3A</td>\n",
       "      <td>North York</td>\n",
       "      <td>Parkwoods</td>\n",
       "    </tr>\n",
       "    <tr>\n",
       "      <th>3</th>\n",
       "      <td>M4A</td>\n",
       "      <td>North York</td>\n",
       "      <td>Victoria Village</td>\n",
       "    </tr>\n",
       "    <tr>\n",
       "      <th>4</th>\n",
       "      <td>M5A</td>\n",
       "      <td>Downtown Toronto</td>\n",
       "      <td>Regent Park, Harbourfront</td>\n",
       "    </tr>\n",
       "  </tbody>\n",
       "</table>\n",
       "</div>"
      ],
      "text/plain": [
       "  PostalCode           Borough               Neighborhood\n",
       "0        M1A      Not assigned                           \n",
       "1        M2A      Not assigned                           \n",
       "2        M3A        North York                  Parkwoods\n",
       "3        M4A        North York           Victoria Village\n",
       "4        M5A  Downtown Toronto  Regent Park, Harbourfront"
      ]
     },
     "execution_count": 7,
     "metadata": {
      "tags": []
     },
     "output_type": "execute_result"
    }
   ],
   "source": [
    "# create a new DataFrame from the three lists\n",
    "toronto_df = pd.DataFrame({\"PostalCode\": postalCodeList,\n",
    "                           \"Borough\": boroughList,\n",
    "                           \"Neighborhood\": neighborhoodList})\n",
    "\n",
    "toronto_df.head()"
   ]
  },
  {
   "cell_type": "markdown",
   "metadata": {
    "colab_type": "text",
    "id": "ghZ3y5Ci6Ef2"
   },
   "source": [
    "### 1.3 Drop cells with a borough that is \"Not assigned\""
   ]
  },
  {
   "cell_type": "code",
   "execution_count": 8,
   "metadata": {
    "colab": {
     "base_uri": "https://localhost:8080/",
     "height": 202
    },
    "colab_type": "code",
    "id": "opQ_y8MA1Bj0",
    "outputId": "fad9a9ce-c43a-4ab7-da47-a9ec5994e0a1"
   },
   "outputs": [
    {
     "data": {
      "text/html": [
       "<div>\n",
       "<style scoped>\n",
       "    .dataframe tbody tr th:only-of-type {\n",
       "        vertical-align: middle;\n",
       "    }\n",
       "\n",
       "    .dataframe tbody tr th {\n",
       "        vertical-align: top;\n",
       "    }\n",
       "\n",
       "    .dataframe thead th {\n",
       "        text-align: right;\n",
       "    }\n",
       "</style>\n",
       "<table border=\"1\" class=\"dataframe\">\n",
       "  <thead>\n",
       "    <tr style=\"text-align: right;\">\n",
       "      <th></th>\n",
       "      <th>PostalCode</th>\n",
       "      <th>Borough</th>\n",
       "      <th>Neighborhood</th>\n",
       "    </tr>\n",
       "  </thead>\n",
       "  <tbody>\n",
       "    <tr>\n",
       "      <th>0</th>\n",
       "      <td>M3A</td>\n",
       "      <td>North York</td>\n",
       "      <td>Parkwoods</td>\n",
       "    </tr>\n",
       "    <tr>\n",
       "      <th>1</th>\n",
       "      <td>M4A</td>\n",
       "      <td>North York</td>\n",
       "      <td>Victoria Village</td>\n",
       "    </tr>\n",
       "    <tr>\n",
       "      <th>2</th>\n",
       "      <td>M5A</td>\n",
       "      <td>Downtown Toronto</td>\n",
       "      <td>Regent Park, Harbourfront</td>\n",
       "    </tr>\n",
       "    <tr>\n",
       "      <th>3</th>\n",
       "      <td>M6A</td>\n",
       "      <td>North York</td>\n",
       "      <td>Lawrence Manor, Lawrence Heights</td>\n",
       "    </tr>\n",
       "    <tr>\n",
       "      <th>4</th>\n",
       "      <td>M7A</td>\n",
       "      <td>Downtown Toronto</td>\n",
       "      <td>Queen's Park, Ontario Provincial Government</td>\n",
       "    </tr>\n",
       "  </tbody>\n",
       "</table>\n",
       "</div>"
      ],
      "text/plain": [
       "  PostalCode           Borough                                 Neighborhood\n",
       "0        M3A        North York                                    Parkwoods\n",
       "1        M4A        North York                             Victoria Village\n",
       "2        M5A  Downtown Toronto                    Regent Park, Harbourfront\n",
       "3        M6A        North York             Lawrence Manor, Lawrence Heights\n",
       "4        M7A  Downtown Toronto  Queen's Park, Ontario Provincial Government"
      ]
     },
     "execution_count": 8,
     "metadata": {
      "tags": []
     },
     "output_type": "execute_result"
    }
   ],
   "source": [
    "# drop cells with a borough that is Not assigned\n",
    "toronto_df_dropna = toronto_df[toronto_df.Borough != \"Not assigned\"].reset_index(drop=True)\n",
    "toronto_df_dropna.head()"
   ]
  },
  {
   "cell_type": "markdown",
   "metadata": {
    "colab_type": "text",
    "id": "k5Jtd4Tw6WCW"
   },
   "source": [
    "### 1.4 Group neighborhoods in the same borough"
   ]
  },
  {
   "cell_type": "code",
   "execution_count": 9,
   "metadata": {
    "colab": {
     "base_uri": "https://localhost:8080/",
     "height": 202
    },
    "colab_type": "code",
    "id": "pvckyteq4g5G",
    "outputId": "43b0bc9c-ec2b-41b2-c4ed-1d2d7d8bab71"
   },
   "outputs": [
    {
     "data": {
      "text/html": [
       "<div>\n",
       "<style scoped>\n",
       "    .dataframe tbody tr th:only-of-type {\n",
       "        vertical-align: middle;\n",
       "    }\n",
       "\n",
       "    .dataframe tbody tr th {\n",
       "        vertical-align: top;\n",
       "    }\n",
       "\n",
       "    .dataframe thead th {\n",
       "        text-align: right;\n",
       "    }\n",
       "</style>\n",
       "<table border=\"1\" class=\"dataframe\">\n",
       "  <thead>\n",
       "    <tr style=\"text-align: right;\">\n",
       "      <th></th>\n",
       "      <th>PostalCode</th>\n",
       "      <th>Borough</th>\n",
       "      <th>Neighborhood</th>\n",
       "    </tr>\n",
       "  </thead>\n",
       "  <tbody>\n",
       "    <tr>\n",
       "      <th>0</th>\n",
       "      <td>M1B</td>\n",
       "      <td>Scarborough</td>\n",
       "      <td>Malvern, Rouge</td>\n",
       "    </tr>\n",
       "    <tr>\n",
       "      <th>1</th>\n",
       "      <td>M1C</td>\n",
       "      <td>Scarborough</td>\n",
       "      <td>Rouge Hill, Port Union, Highland Creek</td>\n",
       "    </tr>\n",
       "    <tr>\n",
       "      <th>2</th>\n",
       "      <td>M1E</td>\n",
       "      <td>Scarborough</td>\n",
       "      <td>Guildwood, Morningside, West Hill</td>\n",
       "    </tr>\n",
       "    <tr>\n",
       "      <th>3</th>\n",
       "      <td>M1G</td>\n",
       "      <td>Scarborough</td>\n",
       "      <td>Woburn</td>\n",
       "    </tr>\n",
       "    <tr>\n",
       "      <th>4</th>\n",
       "      <td>M1H</td>\n",
       "      <td>Scarborough</td>\n",
       "      <td>Cedarbrae</td>\n",
       "    </tr>\n",
       "  </tbody>\n",
       "</table>\n",
       "</div>"
      ],
      "text/plain": [
       "  PostalCode      Borough                            Neighborhood\n",
       "0        M1B  Scarborough                          Malvern, Rouge\n",
       "1        M1C  Scarborough  Rouge Hill, Port Union, Highland Creek\n",
       "2        M1E  Scarborough       Guildwood, Morningside, West Hill\n",
       "3        M1G  Scarborough                                  Woburn\n",
       "4        M1H  Scarborough                               Cedarbrae"
      ]
     },
     "execution_count": 9,
     "metadata": {
      "tags": []
     },
     "output_type": "execute_result"
    }
   ],
   "source": [
    "# group neighborhoods in the same borough\n",
    "toronto_df_grouped = toronto_df_dropna.groupby([\"PostalCode\", \"Borough\"], as_index=False).agg(lambda x: \", \".join(x))\n",
    "toronto_df_grouped.head()"
   ]
  },
  {
   "cell_type": "markdown",
   "metadata": {
    "colab_type": "text",
    "id": "80yXNQJf6fGw"
   },
   "source": [
    "### 1.5 For Neighborhood=\"Not assigned\", make the value the same as Borough"
   ]
  },
  {
   "cell_type": "code",
   "execution_count": 10,
   "metadata": {
    "colab": {
     "base_uri": "https://localhost:8080/",
     "height": 202
    },
    "colab_type": "code",
    "id": "HAFP_LKj4jR9",
    "outputId": "10d74feb-1a33-431c-9d0c-051daeb7ca9f"
   },
   "outputs": [
    {
     "data": {
      "text/html": [
       "<div>\n",
       "<style scoped>\n",
       "    .dataframe tbody tr th:only-of-type {\n",
       "        vertical-align: middle;\n",
       "    }\n",
       "\n",
       "    .dataframe tbody tr th {\n",
       "        vertical-align: top;\n",
       "    }\n",
       "\n",
       "    .dataframe thead th {\n",
       "        text-align: right;\n",
       "    }\n",
       "</style>\n",
       "<table border=\"1\" class=\"dataframe\">\n",
       "  <thead>\n",
       "    <tr style=\"text-align: right;\">\n",
       "      <th></th>\n",
       "      <th>PostalCode</th>\n",
       "      <th>Borough</th>\n",
       "      <th>Neighborhood</th>\n",
       "    </tr>\n",
       "  </thead>\n",
       "  <tbody>\n",
       "    <tr>\n",
       "      <th>0</th>\n",
       "      <td>M1B</td>\n",
       "      <td>Scarborough</td>\n",
       "      <td>Malvern, Rouge</td>\n",
       "    </tr>\n",
       "    <tr>\n",
       "      <th>1</th>\n",
       "      <td>M1C</td>\n",
       "      <td>Scarborough</td>\n",
       "      <td>Rouge Hill, Port Union, Highland Creek</td>\n",
       "    </tr>\n",
       "    <tr>\n",
       "      <th>2</th>\n",
       "      <td>M1E</td>\n",
       "      <td>Scarborough</td>\n",
       "      <td>Guildwood, Morningside, West Hill</td>\n",
       "    </tr>\n",
       "    <tr>\n",
       "      <th>3</th>\n",
       "      <td>M1G</td>\n",
       "      <td>Scarborough</td>\n",
       "      <td>Woburn</td>\n",
       "    </tr>\n",
       "    <tr>\n",
       "      <th>4</th>\n",
       "      <td>M1H</td>\n",
       "      <td>Scarborough</td>\n",
       "      <td>Cedarbrae</td>\n",
       "    </tr>\n",
       "  </tbody>\n",
       "</table>\n",
       "</div>"
      ],
      "text/plain": [
       "  PostalCode      Borough                            Neighborhood\n",
       "0        M1B  Scarborough                          Malvern, Rouge\n",
       "1        M1C  Scarborough  Rouge Hill, Port Union, Highland Creek\n",
       "2        M1E  Scarborough       Guildwood, Morningside, West Hill\n",
       "3        M1G  Scarborough                                  Woburn\n",
       "4        M1H  Scarborough                               Cedarbrae"
      ]
     },
     "execution_count": 10,
     "metadata": {
      "tags": []
     },
     "output_type": "execute_result"
    }
   ],
   "source": [
    "# for Neighborhood=\"Not assigned\", make the value the same as Borough\n",
    "for index, row in toronto_df_grouped.iterrows():\n",
    "    if row[\"Neighborhood\"] == \"Not assigned\":\n",
    "        row[\"Neighborhood\"] = row[\"Borough\"]\n",
    "        \n",
    "toronto_df_grouped.head()"
   ]
  },
  {
   "cell_type": "markdown",
   "metadata": {
    "colab_type": "text",
    "id": "UaQ0NSgy6oAg"
   },
   "source": [
    "### 1.6 Arranging the rows as required"
   ]
  },
  {
   "cell_type": "code",
   "execution_count": 11,
   "metadata": {
    "colab": {
     "base_uri": "https://localhost:8080/",
     "height": 417
    },
    "colab_type": "code",
    "id": "wa7lcOhX4mL_",
    "outputId": "c7379453-dde5-4241-cce9-25a30a308c21"
   },
   "outputs": [
    {
     "data": {
      "text/html": [
       "<div>\n",
       "<style scoped>\n",
       "    .dataframe tbody tr th:only-of-type {\n",
       "        vertical-align: middle;\n",
       "    }\n",
       "\n",
       "    .dataframe tbody tr th {\n",
       "        vertical-align: top;\n",
       "    }\n",
       "\n",
       "    .dataframe thead th {\n",
       "        text-align: right;\n",
       "    }\n",
       "</style>\n",
       "<table border=\"1\" class=\"dataframe\">\n",
       "  <thead>\n",
       "    <tr style=\"text-align: right;\">\n",
       "      <th></th>\n",
       "      <th>PostalCode</th>\n",
       "      <th>Borough</th>\n",
       "      <th>Neighborhood</th>\n",
       "    </tr>\n",
       "  </thead>\n",
       "  <tbody>\n",
       "    <tr>\n",
       "      <th>0</th>\n",
       "      <td>M5G</td>\n",
       "      <td>Downtown Toronto</td>\n",
       "      <td>Central Bay Street</td>\n",
       "    </tr>\n",
       "    <tr>\n",
       "      <th>1</th>\n",
       "      <td>M2H</td>\n",
       "      <td>North York</td>\n",
       "      <td>Hillcrest Village</td>\n",
       "    </tr>\n",
       "    <tr>\n",
       "      <th>2</th>\n",
       "      <td>M4B</td>\n",
       "      <td>East York</td>\n",
       "      <td>Parkview Hill, Woodbine Gardens</td>\n",
       "    </tr>\n",
       "    <tr>\n",
       "      <th>3</th>\n",
       "      <td>M1J</td>\n",
       "      <td>Scarborough</td>\n",
       "      <td>Scarborough Village</td>\n",
       "    </tr>\n",
       "    <tr>\n",
       "      <th>4</th>\n",
       "      <td>M4G</td>\n",
       "      <td>East York</td>\n",
       "      <td>Leaside</td>\n",
       "    </tr>\n",
       "    <tr>\n",
       "      <th>5</th>\n",
       "      <td>M4M</td>\n",
       "      <td>East Toronto</td>\n",
       "      <td>Studio District</td>\n",
       "    </tr>\n",
       "    <tr>\n",
       "      <th>6</th>\n",
       "      <td>M1R</td>\n",
       "      <td>Scarborough</td>\n",
       "      <td>Wexford, Maryvale</td>\n",
       "    </tr>\n",
       "    <tr>\n",
       "      <th>7</th>\n",
       "      <td>M9V</td>\n",
       "      <td>Etobicoke</td>\n",
       "      <td>South Steeles, Silverstone, Humbergate, Jamest...</td>\n",
       "    </tr>\n",
       "    <tr>\n",
       "      <th>8</th>\n",
       "      <td>M9L</td>\n",
       "      <td>North York</td>\n",
       "      <td>Humber Summit</td>\n",
       "    </tr>\n",
       "    <tr>\n",
       "      <th>9</th>\n",
       "      <td>M5V</td>\n",
       "      <td>Downtown Toronto</td>\n",
       "      <td>CN Tower, King and Spadina, Railway Lands, Har...</td>\n",
       "    </tr>\n",
       "    <tr>\n",
       "      <th>10</th>\n",
       "      <td>M1B</td>\n",
       "      <td>Scarborough</td>\n",
       "      <td>Malvern, Rouge</td>\n",
       "    </tr>\n",
       "    <tr>\n",
       "      <th>11</th>\n",
       "      <td>M5A</td>\n",
       "      <td>Downtown Toronto</td>\n",
       "      <td>Regent Park, Harbourfront</td>\n",
       "    </tr>\n",
       "  </tbody>\n",
       "</table>\n",
       "</div>"
      ],
      "text/plain": [
       "   PostalCode  ...                                       Neighborhood\n",
       "0         M5G  ...                                 Central Bay Street\n",
       "1         M2H  ...                                  Hillcrest Village\n",
       "2         M4B  ...                    Parkview Hill, Woodbine Gardens\n",
       "3         M1J  ...                                Scarborough Village\n",
       "4         M4G  ...                                            Leaside\n",
       "5         M4M  ...                                    Studio District\n",
       "6         M1R  ...                                  Wexford, Maryvale\n",
       "7         M9V  ...  South Steeles, Silverstone, Humbergate, Jamest...\n",
       "8         M9L  ...                                      Humber Summit\n",
       "9         M5V  ...  CN Tower, King and Spadina, Railway Lands, Har...\n",
       "10        M1B  ...                                     Malvern, Rouge\n",
       "11        M5A  ...                          Regent Park, Harbourfront\n",
       "\n",
       "[12 rows x 3 columns]"
      ]
     },
     "execution_count": 11,
     "metadata": {
      "tags": []
     },
     "output_type": "execute_result"
    }
   ],
   "source": [
    "# create a new test dataframe\n",
    "\n",
    "column_names = [\"PostalCode\", \"Borough\", \"Neighborhood\"]\n",
    "new_df = pd.DataFrame(columns=column_names)\n",
    "\n",
    "new_list = [\"M5G\", \"M2H\", \"M4B\", \"M1J\", \"M4G\", \"M4M\", \"M1R\", \"M9V\", \"M9L\", \"M5V\", \"M1B\", \"M5A\"]\n",
    "\n",
    "for postcode in new_list:\n",
    "    new_df = new_df.append(toronto_df_grouped[toronto_df_grouped[\"PostalCode\"]==postcode], ignore_index=True)\n",
    "    \n",
    "new_df"
   ]
  },
  {
   "cell_type": "markdown",
   "metadata": {
    "colab_type": "text",
    "id": "ulO9FHfx7kha"
   },
   "source": [
    "### 1.7 Shape of the cleaned dataframe"
   ]
  },
  {
   "cell_type": "code",
   "execution_count": 14,
   "metadata": {
    "colab": {
     "base_uri": "https://localhost:8080/",
     "height": 35
    },
    "colab_type": "code",
    "id": "jEtdGXd84oqo",
    "outputId": "90610eb5-1aef-41ef-976c-330dcb44e905"
   },
   "outputs": [
    {
     "name": "stdout",
     "output_type": "stream",
     "text": [
      "Shape : (103, 3)\n"
     ]
    }
   ],
   "source": [
    "# shape of dataframe\n",
    "print(\"Shape : \"+ str(toronto_df_grouped.shape) )"
   ]
  },
  {
   "cell_type": "markdown",
   "metadata": {
    "colab_type": "text",
    "id": "zHALWBlP-aB3"
   },
   "source": [
    "## 2. Geolocation"
   ]
  },
  {
   "cell_type": "markdown",
   "metadata": {
    "colab_type": "text",
    "id": "5Wx8nbXx-dUS"
   },
   "source": [
    "### 2.1 Load the coordinates from the .csv file"
   ]
  },
  {
   "cell_type": "code",
   "execution_count": 15,
   "metadata": {
    "colab": {
     "base_uri": "https://localhost:8080/",
     "height": 202
    },
    "colab_type": "code",
    "id": "rTRtFYwI7v-p",
    "outputId": "5d5916ee-74ba-4fa5-b42e-27df6c292848"
   },
   "outputs": [
    {
     "data": {
      "text/html": [
       "<div>\n",
       "<style scoped>\n",
       "    .dataframe tbody tr th:only-of-type {\n",
       "        vertical-align: middle;\n",
       "    }\n",
       "\n",
       "    .dataframe tbody tr th {\n",
       "        vertical-align: top;\n",
       "    }\n",
       "\n",
       "    .dataframe thead th {\n",
       "        text-align: right;\n",
       "    }\n",
       "</style>\n",
       "<table border=\"1\" class=\"dataframe\">\n",
       "  <thead>\n",
       "    <tr style=\"text-align: right;\">\n",
       "      <th></th>\n",
       "      <th>Postal Code</th>\n",
       "      <th>Latitude</th>\n",
       "      <th>Longitude</th>\n",
       "    </tr>\n",
       "  </thead>\n",
       "  <tbody>\n",
       "    <tr>\n",
       "      <th>0</th>\n",
       "      <td>M1B</td>\n",
       "      <td>43.806686</td>\n",
       "      <td>-79.194353</td>\n",
       "    </tr>\n",
       "    <tr>\n",
       "      <th>1</th>\n",
       "      <td>M1C</td>\n",
       "      <td>43.784535</td>\n",
       "      <td>-79.160497</td>\n",
       "    </tr>\n",
       "    <tr>\n",
       "      <th>2</th>\n",
       "      <td>M1E</td>\n",
       "      <td>43.763573</td>\n",
       "      <td>-79.188711</td>\n",
       "    </tr>\n",
       "    <tr>\n",
       "      <th>3</th>\n",
       "      <td>M1G</td>\n",
       "      <td>43.770992</td>\n",
       "      <td>-79.216917</td>\n",
       "    </tr>\n",
       "    <tr>\n",
       "      <th>4</th>\n",
       "      <td>M1H</td>\n",
       "      <td>43.773136</td>\n",
       "      <td>-79.239476</td>\n",
       "    </tr>\n",
       "  </tbody>\n",
       "</table>\n",
       "</div>"
      ],
      "text/plain": [
       "  Postal Code   Latitude  Longitude\n",
       "0         M1B  43.806686 -79.194353\n",
       "1         M1C  43.784535 -79.160497\n",
       "2         M1E  43.763573 -79.188711\n",
       "3         M1G  43.770992 -79.216917\n",
       "4         M1H  43.773136 -79.239476"
      ]
     },
     "execution_count": 15,
     "metadata": {
      "tags": []
     },
     "output_type": "execute_result"
    }
   ],
   "source": [
    "# load the coordinates from the csv file on Coursera\n",
    "coordinates = pd.read_csv(\"Geospatial_Coordinates.csv\")\n",
    "coordinates.head()"
   ]
  },
  {
   "cell_type": "code",
   "execution_count": 16,
   "metadata": {
    "colab": {
     "base_uri": "https://localhost:8080/",
     "height": 202
    },
    "colab_type": "code",
    "id": "InRgqOQc_BrE",
    "outputId": "de6ed6bc-3972-4381-8c90-d0f187d38541"
   },
   "outputs": [
    {
     "data": {
      "text/html": [
       "<div>\n",
       "<style scoped>\n",
       "    .dataframe tbody tr th:only-of-type {\n",
       "        vertical-align: middle;\n",
       "    }\n",
       "\n",
       "    .dataframe tbody tr th {\n",
       "        vertical-align: top;\n",
       "    }\n",
       "\n",
       "    .dataframe thead th {\n",
       "        text-align: right;\n",
       "    }\n",
       "</style>\n",
       "<table border=\"1\" class=\"dataframe\">\n",
       "  <thead>\n",
       "    <tr style=\"text-align: right;\">\n",
       "      <th></th>\n",
       "      <th>PostalCode</th>\n",
       "      <th>Latitude</th>\n",
       "      <th>Longitude</th>\n",
       "    </tr>\n",
       "  </thead>\n",
       "  <tbody>\n",
       "    <tr>\n",
       "      <th>0</th>\n",
       "      <td>M1B</td>\n",
       "      <td>43.806686</td>\n",
       "      <td>-79.194353</td>\n",
       "    </tr>\n",
       "    <tr>\n",
       "      <th>1</th>\n",
       "      <td>M1C</td>\n",
       "      <td>43.784535</td>\n",
       "      <td>-79.160497</td>\n",
       "    </tr>\n",
       "    <tr>\n",
       "      <th>2</th>\n",
       "      <td>M1E</td>\n",
       "      <td>43.763573</td>\n",
       "      <td>-79.188711</td>\n",
       "    </tr>\n",
       "    <tr>\n",
       "      <th>3</th>\n",
       "      <td>M1G</td>\n",
       "      <td>43.770992</td>\n",
       "      <td>-79.216917</td>\n",
       "    </tr>\n",
       "    <tr>\n",
       "      <th>4</th>\n",
       "      <td>M1H</td>\n",
       "      <td>43.773136</td>\n",
       "      <td>-79.239476</td>\n",
       "    </tr>\n",
       "  </tbody>\n",
       "</table>\n",
       "</div>"
      ],
      "text/plain": [
       "  PostalCode   Latitude  Longitude\n",
       "0        M1B  43.806686 -79.194353\n",
       "1        M1C  43.784535 -79.160497\n",
       "2        M1E  43.763573 -79.188711\n",
       "3        M1G  43.770992 -79.216917\n",
       "4        M1H  43.773136 -79.239476"
      ]
     },
     "execution_count": 16,
     "metadata": {
      "tags": []
     },
     "output_type": "execute_result"
    }
   ],
   "source": [
    "# rename the column \"PostalCode\"\n",
    "coordinates.rename(columns={\"Postal Code\": \"PostalCode\"}, inplace=True)\n",
    "coordinates.head()"
   ]
  },
  {
   "cell_type": "markdown",
   "metadata": {
    "colab_type": "text",
    "id": "bByl3JFT_LQn"
   },
   "source": [
    "### 2.2 Merge two tables to get the coordinates"
   ]
  },
  {
   "cell_type": "code",
   "execution_count": 17,
   "metadata": {
    "colab": {
     "base_uri": "https://localhost:8080/",
     "height": 202
    },
    "colab_type": "code",
    "id": "UkQj_tLY_H4p",
    "outputId": "6ca8ee73-617b-422c-ddb8-385d07167424"
   },
   "outputs": [
    {
     "data": {
      "text/html": [
       "<div>\n",
       "<style scoped>\n",
       "    .dataframe tbody tr th:only-of-type {\n",
       "        vertical-align: middle;\n",
       "    }\n",
       "\n",
       "    .dataframe tbody tr th {\n",
       "        vertical-align: top;\n",
       "    }\n",
       "\n",
       "    .dataframe thead th {\n",
       "        text-align: right;\n",
       "    }\n",
       "</style>\n",
       "<table border=\"1\" class=\"dataframe\">\n",
       "  <thead>\n",
       "    <tr style=\"text-align: right;\">\n",
       "      <th></th>\n",
       "      <th>PostalCode</th>\n",
       "      <th>Borough</th>\n",
       "      <th>Neighborhood</th>\n",
       "      <th>Latitude</th>\n",
       "      <th>Longitude</th>\n",
       "    </tr>\n",
       "  </thead>\n",
       "  <tbody>\n",
       "    <tr>\n",
       "      <th>0</th>\n",
       "      <td>M1B</td>\n",
       "      <td>Scarborough</td>\n",
       "      <td>Malvern, Rouge</td>\n",
       "      <td>43.806686</td>\n",
       "      <td>-79.194353</td>\n",
       "    </tr>\n",
       "    <tr>\n",
       "      <th>1</th>\n",
       "      <td>M1C</td>\n",
       "      <td>Scarborough</td>\n",
       "      <td>Rouge Hill, Port Union, Highland Creek</td>\n",
       "      <td>43.784535</td>\n",
       "      <td>-79.160497</td>\n",
       "    </tr>\n",
       "    <tr>\n",
       "      <th>2</th>\n",
       "      <td>M1E</td>\n",
       "      <td>Scarborough</td>\n",
       "      <td>Guildwood, Morningside, West Hill</td>\n",
       "      <td>43.763573</td>\n",
       "      <td>-79.188711</td>\n",
       "    </tr>\n",
       "    <tr>\n",
       "      <th>3</th>\n",
       "      <td>M1G</td>\n",
       "      <td>Scarborough</td>\n",
       "      <td>Woburn</td>\n",
       "      <td>43.770992</td>\n",
       "      <td>-79.216917</td>\n",
       "    </tr>\n",
       "    <tr>\n",
       "      <th>4</th>\n",
       "      <td>M1H</td>\n",
       "      <td>Scarborough</td>\n",
       "      <td>Cedarbrae</td>\n",
       "      <td>43.773136</td>\n",
       "      <td>-79.239476</td>\n",
       "    </tr>\n",
       "  </tbody>\n",
       "</table>\n",
       "</div>"
      ],
      "text/plain": [
       "  PostalCode      Borough  ...   Latitude  Longitude\n",
       "0        M1B  Scarborough  ...  43.806686 -79.194353\n",
       "1        M1C  Scarborough  ...  43.784535 -79.160497\n",
       "2        M1E  Scarborough  ...  43.763573 -79.188711\n",
       "3        M1G  Scarborough  ...  43.770992 -79.216917\n",
       "4        M1H  Scarborough  ...  43.773136 -79.239476\n",
       "\n",
       "[5 rows x 5 columns]"
      ]
     },
     "execution_count": 17,
     "metadata": {
      "tags": []
     },
     "output_type": "execute_result"
    }
   ],
   "source": [
    "# merge two table on the column \"PostalCode\"\n",
    "toronto_df_new = toronto_df_grouped.merge(coordinates, on=\"PostalCode\", how=\"left\")\n",
    "toronto_df_new.head()"
   ]
  },
  {
   "cell_type": "markdown",
   "metadata": {
    "colab_type": "text",
    "id": "EIsMVR5t_q18"
   },
   "source": [
    "### 2.3 Arranging the rows as required"
   ]
  },
  {
   "cell_type": "code",
   "execution_count": 18,
   "metadata": {
    "colab": {
     "base_uri": "https://localhost:8080/",
     "height": 417
    },
    "colab_type": "code",
    "id": "BaVGzFMk_SH9",
    "outputId": "820ee69a-3ba5-45fb-8f90-44a2d52ab9dd"
   },
   "outputs": [
    {
     "data": {
      "text/html": [
       "<div>\n",
       "<style scoped>\n",
       "    .dataframe tbody tr th:only-of-type {\n",
       "        vertical-align: middle;\n",
       "    }\n",
       "\n",
       "    .dataframe tbody tr th {\n",
       "        vertical-align: top;\n",
       "    }\n",
       "\n",
       "    .dataframe thead th {\n",
       "        text-align: right;\n",
       "    }\n",
       "</style>\n",
       "<table border=\"1\" class=\"dataframe\">\n",
       "  <thead>\n",
       "    <tr style=\"text-align: right;\">\n",
       "      <th></th>\n",
       "      <th>PostalCode</th>\n",
       "      <th>Borough</th>\n",
       "      <th>Neighborhood</th>\n",
       "      <th>Latitude</th>\n",
       "      <th>Longitude</th>\n",
       "    </tr>\n",
       "  </thead>\n",
       "  <tbody>\n",
       "    <tr>\n",
       "      <th>0</th>\n",
       "      <td>M5G</td>\n",
       "      <td>Downtown Toronto</td>\n",
       "      <td>Central Bay Street</td>\n",
       "      <td>43.657952</td>\n",
       "      <td>-79.387383</td>\n",
       "    </tr>\n",
       "    <tr>\n",
       "      <th>1</th>\n",
       "      <td>M2H</td>\n",
       "      <td>North York</td>\n",
       "      <td>Hillcrest Village</td>\n",
       "      <td>43.803762</td>\n",
       "      <td>-79.363452</td>\n",
       "    </tr>\n",
       "    <tr>\n",
       "      <th>2</th>\n",
       "      <td>M4B</td>\n",
       "      <td>East York</td>\n",
       "      <td>Parkview Hill, Woodbine Gardens</td>\n",
       "      <td>43.706397</td>\n",
       "      <td>-79.309937</td>\n",
       "    </tr>\n",
       "    <tr>\n",
       "      <th>3</th>\n",
       "      <td>M1J</td>\n",
       "      <td>Scarborough</td>\n",
       "      <td>Scarborough Village</td>\n",
       "      <td>43.744734</td>\n",
       "      <td>-79.239476</td>\n",
       "    </tr>\n",
       "    <tr>\n",
       "      <th>4</th>\n",
       "      <td>M4G</td>\n",
       "      <td>East York</td>\n",
       "      <td>Leaside</td>\n",
       "      <td>43.709060</td>\n",
       "      <td>-79.363452</td>\n",
       "    </tr>\n",
       "    <tr>\n",
       "      <th>5</th>\n",
       "      <td>M4M</td>\n",
       "      <td>East Toronto</td>\n",
       "      <td>Studio District</td>\n",
       "      <td>43.659526</td>\n",
       "      <td>-79.340923</td>\n",
       "    </tr>\n",
       "    <tr>\n",
       "      <th>6</th>\n",
       "      <td>M1R</td>\n",
       "      <td>Scarborough</td>\n",
       "      <td>Wexford, Maryvale</td>\n",
       "      <td>43.750072</td>\n",
       "      <td>-79.295849</td>\n",
       "    </tr>\n",
       "    <tr>\n",
       "      <th>7</th>\n",
       "      <td>M9V</td>\n",
       "      <td>Etobicoke</td>\n",
       "      <td>South Steeles, Silverstone, Humbergate, Jamest...</td>\n",
       "      <td>43.739416</td>\n",
       "      <td>-79.588437</td>\n",
       "    </tr>\n",
       "    <tr>\n",
       "      <th>8</th>\n",
       "      <td>M9L</td>\n",
       "      <td>North York</td>\n",
       "      <td>Humber Summit</td>\n",
       "      <td>43.756303</td>\n",
       "      <td>-79.565963</td>\n",
       "    </tr>\n",
       "    <tr>\n",
       "      <th>9</th>\n",
       "      <td>M5V</td>\n",
       "      <td>Downtown Toronto</td>\n",
       "      <td>CN Tower, King and Spadina, Railway Lands, Har...</td>\n",
       "      <td>43.628947</td>\n",
       "      <td>-79.394420</td>\n",
       "    </tr>\n",
       "    <tr>\n",
       "      <th>10</th>\n",
       "      <td>M1B</td>\n",
       "      <td>Scarborough</td>\n",
       "      <td>Malvern, Rouge</td>\n",
       "      <td>43.806686</td>\n",
       "      <td>-79.194353</td>\n",
       "    </tr>\n",
       "    <tr>\n",
       "      <th>11</th>\n",
       "      <td>M5A</td>\n",
       "      <td>Downtown Toronto</td>\n",
       "      <td>Regent Park, Harbourfront</td>\n",
       "      <td>43.654260</td>\n",
       "      <td>-79.360636</td>\n",
       "    </tr>\n",
       "  </tbody>\n",
       "</table>\n",
       "</div>"
      ],
      "text/plain": [
       "   PostalCode           Borough  ...   Latitude  Longitude\n",
       "0         M5G  Downtown Toronto  ...  43.657952 -79.387383\n",
       "1         M2H        North York  ...  43.803762 -79.363452\n",
       "2         M4B         East York  ...  43.706397 -79.309937\n",
       "3         M1J       Scarborough  ...  43.744734 -79.239476\n",
       "4         M4G         East York  ...  43.709060 -79.363452\n",
       "5         M4M      East Toronto  ...  43.659526 -79.340923\n",
       "6         M1R       Scarborough  ...  43.750072 -79.295849\n",
       "7         M9V         Etobicoke  ...  43.739416 -79.588437\n",
       "8         M9L        North York  ...  43.756303 -79.565963\n",
       "9         M5V  Downtown Toronto  ...  43.628947 -79.394420\n",
       "10        M1B       Scarborough  ...  43.806686 -79.194353\n",
       "11        M5A  Downtown Toronto  ...  43.654260 -79.360636\n",
       "\n",
       "[12 rows x 5 columns]"
      ]
     },
     "execution_count": 18,
     "metadata": {
      "tags": []
     },
     "output_type": "execute_result"
    }
   ],
   "source": [
    "# create a new test dataframe\n",
    "column_names = [\"PostalCode\", \"Borough\", \"Neighborhood\", \"Latitude\", \"Longitude\"]\n",
    "new_df = pd.DataFrame(columns=column_names)\n",
    "\n",
    "new_list = [\"M5G\", \"M2H\", \"M4B\", \"M1J\", \"M4G\", \"M4M\", \"M1R\", \"M9V\", \"M9L\", \"M5V\", \"M1B\", \"M5A\"]\n",
    "\n",
    "for postcode in new_list:\n",
    "    new_df = new_df.append(toronto_df_new[toronto_df_new[\"PostalCode\"]==postcode], ignore_index=True)\n",
    "    \n",
    "new_df"
   ]
  },
  {
   "cell_type": "code",
   "execution_count": 0,
   "metadata": {
    "colab": {},
    "colab_type": "code",
    "id": "ZlPl4cD9_xVg"
   },
   "outputs": [],
   "source": []
  }
 ],
 "metadata": {
  "colab": {
   "name": "Week3_part2.ipynb",
   "provenance": [],
   "toc_visible": true
  },
  "kernelspec": {
   "display_name": "Python 3",
   "language": "python",
   "name": "python3"
  },
  "language_info": {
   "codemirror_mode": {
    "name": "ipython",
    "version": 3
   },
   "file_extension": ".py",
   "mimetype": "text/x-python",
   "name": "python",
   "nbconvert_exporter": "python",
   "pygments_lexer": "ipython3",
   "version": "3.7.3"
  }
 },
 "nbformat": 4,
 "nbformat_minor": 1
}
